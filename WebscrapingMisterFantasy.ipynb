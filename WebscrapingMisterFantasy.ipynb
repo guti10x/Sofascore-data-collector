{
 "cells": [
  {
   "cell_type": "code",
   "execution_count": 2,
   "id": "e3c0acd3-b212-4bf7-8bb5-56b76a6cdfb3",
   "metadata": {},
   "outputs": [],
   "source": [
    "from selenium import webdriver\n",
    "from selenium.webdriver.common.by import By\n",
    "from selenium.webdriver.common.action_chains import ActionChains\n",
    "import requests\n",
    "from bs4 import BeautifulSoup\n",
    "import time"
   ]
  },
  {
   "cell_type": "code",
   "execution_count": 9,
   "id": "bcf13793-f64d-410e-b113-ebcbb8b3105d",
   "metadata": {},
   "outputs": [],
   "source": [
    "# Crea una instancia del controlador del navegador\n",
    "driver = webdriver.Chrome()\n",
    "\n",
    "# Navega a la página web que deseas hacer scraping\n",
    "driver.get(\"https://mister.mundodeportivo.com/new-onboarding/#market\")\n",
    "\n",
    "# Espera a que se cargue la página\n",
    "driver.implicitly_wait(15)\n",
    "\n",
    "# Encuentra el botón de \"Consentir\" \n",
    "button = driver.find_element(By.XPATH, '//*[@id=\"didomi-notice-agree-button\"]')\n",
    "# Haz clic en el botón de \"Consentir\" \n",
    "button.click()\n",
    "\n",
    "\n",
    "# Encuentra el botón de \"Siguinete\" \n",
    "button = driver.find_element(By.XPATH, '//*[@id=\"app\"]/div/div[2]/div[2]/button')\n",
    "# Haz clic en el botón de \"Siguiente\" \n",
    "button.click()\n",
    "button.click()\n",
    "button.click()\n",
    "button.click()\n",
    "\n",
    "# Encuentra el botón de \"sing con gmail\" \n",
    "button = driver.find_element(By.XPATH, '//*[@id=\"app\"]/div/div[2]/div/button[3]')\n",
    "button.click()\n",
    "\n",
    "# Localiza el elemento del input gmail\n",
    "inputgmail = driver.find_element(By.XPATH, '//*[@id=\"email\"]')\n",
    "\n",
    "# Borra cualquier contenido existente en la caja de texto (opcional)\n",
    "inputgmail.clear()\n",
    "\n",
    "# Ingresa texto en la caja de texto\n",
    "inputgmail.send_keys(\"m31_grupo6@outlook.com\")\n",
    "\n",
    "# Localiza el elemento del input gmail\n",
    "inputpsw = driver.find_element(By.XPATH, '//*[@id=\"app\"]/div/div[2]/div/form/div[2]/input')\n",
    "\n",
    "# Borra cualquier contenido existente en la caja de texto (opcional)\n",
    "inputpsw.clear()\n",
    "\n",
    "# Ingresa texto en la caja de texto\n",
    "inputpsw.send_keys(\"Chocoflakes2\")\n",
    "\n",
    "# Encuentra el botón de \"sing con gmail\" \n",
    "button = driver.find_element(By.XPATH, '//*[@id=\"app\"]/div/div[2]/div/form/div[3]/button')\n",
    "button.click()"
   ]
  }
 ],
 "metadata": {
  "kernelspec": {
   "display_name": "Python 3",
   "language": "python",
   "name": "python3"
  },
  "language_info": {
   "codemirror_mode": {
    "name": "ipython",
    "version": 3
   },
   "file_extension": ".py",
   "mimetype": "text/x-python",
   "name": "python",
   "nbconvert_exporter": "python",
   "pygments_lexer": "ipython3",
   "version": "3.8.8"
  }
 },
 "nbformat": 4,
 "nbformat_minor": 5
}

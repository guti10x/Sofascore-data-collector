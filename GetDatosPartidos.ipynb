{
 "cells": [
  {
   "cell_type": "markdown",
   "id": "452cb0a7-1ac2-470e-b7fa-b05b287a2f20",
   "metadata": {},
   "source": [
    "# GET información de los partidos"
   ]
  },
  {
   "cell_type": "code",
   "execution_count": 1,
   "id": "5a9889fa-eeb0-4849-88b0-6e8be47b4505",
   "metadata": {},
   "outputs": [],
   "source": [
    "import requests\n",
    "import json \n",
    "import os\n",
    "\n",
    "headers = {\n",
    "    \"X-RapidAPI-Key\": \"ff1445247amshc1e1716dd1c0de1p1a1f0ejsnd1bcc39c4c98\",\n",
    "    \"X-RapidAPI-Host\": \"sofascore.p.rapidapi.com\"\n",
    "}"
   ]
  },
  {
   "cell_type": "markdown",
   "id": "cd4f4d9e-ce26-44c9-8ae3-27b22aba84a8",
   "metadata": {},
   "source": [
    "### Obtenemos id de cada equipo en la Api de sofaescore"
   ]
  },
  {
   "cell_type": "code",
   "execution_count": 2,
   "id": "c891e6bb-7400-4a56-9b65-4f20678d55b0",
   "metadata": {},
   "outputs": [
    {
     "name": "stdout",
     "output_type": "stream",
     "text": [
      "Real Madrid: 2829\n",
      "Barcelona: 2817\n",
      "Atlético de Madrid: 77879\n",
      "Valencia: 2828\n",
      "Sevilla: 2833\n",
      "Villarreal: 2819\n",
      "Real Sociedad: 2824\n",
      "Real Betis: 2816\n",
      "Athletic Club: 2825\n",
      "Celta Vigo: 2821\n",
      "Almeria: 2858\n",
      "Getafe: 2859\n",
      "Mallorca: 2826\n",
      "Girona: 24264\n",
      "Granada: 33779\n",
      "Cadiz: 4488\n",
      "Alavés: 2885\n",
      "Rayo Vallecano: 2818\n",
      "Osasuna: 2820\n",
      "Las Palmas: 6577\n",
      "Equipos IDs: {'Real Madrid': 2829, 'Barcelona': 2817, 'Atlético de Madrid': 77879, 'Valencia': 2828, 'Sevilla': 2833, 'Villarreal': 2819, 'Real Sociedad': 2824, 'Real Betis': 2816, 'Athletic Club': 2825, 'Celta Vigo': 2821, 'Almeria': 2858, 'Getafe': 2859, 'Mallorca': 2826, 'Girona': 24264, 'Granada': 33779, 'Cadiz': 4488, 'Alavés': 2885, 'Rayo Vallecano': 2818, 'Osasuna': 2820, 'Las Palmas': 6577}\n"
     ]
    }
   ],
   "source": [
    "url = \"https://sofascore.p.rapidapi.com/teams/search\"\n",
    "\n",
    "equipos = [\"Real Madrid\", \"Barcelona\", \"Atlético de Madrid\", \"Valencia\", \"Sevilla\", \"Villarreal\", \"Real Sociedad\", \"Real Betis\", \"Athletic Club\", \"Celta Vigo\", \"Almeria\", \"Getafe\", \"Mallorca\", \"Girona\", \"Granada\", \"Cadiz\", \"Alavés\", \"Rayo Vallecano\", \"Osasuna\", \"Las Palmas\"]\n",
    "\n",
    "ids_equipos = {}\n",
    "\n",
    "for equipo in equipos:\n",
    "    response = requests.get(url, headers=headers, params={\"name\": equipo})\n",
    "    data = response.json()\n",
    "    equipo_id = data['teams'][0]['id']\n",
    "    ids_equipos[equipo] = equipo_id\n",
    "    print(f\"{equipo}: {equipo_id}\")\n",
    "print(\"Equipos IDs:\", ids_equipos)"
   ]
  },
  {
   "cell_type": "code",
   "execution_count": 13,
   "id": "32d6058a-fd18-4b8f-9e4d-47e5aaf50c66",
   "metadata": {},
   "outputs": [],
   "source": [
    "ids_equipos = [2829, 2817, 77879, 2828, 2833, 2819, 2824, 2816, 2825, 2821, 2858, 2859, 2826, 24264, 33779, 4488, 2885, 2818, 2820, 6577]\n",
    "#ids_equipos = [2829, 2817,77879,2828] "
   ]
  },
  {
   "cell_type": "markdown",
   "id": "447a47e0-887d-4525-a1d0-b7734571c085",
   "metadata": {},
   "source": [
    "### Obtenemos ultimos partidos de los equipos"
   ]
  },
  {
   "cell_type": "code",
   "execution_count": 14,
   "id": "8155ef3e-e7a3-46b8-9cad-332dfb36ecd5",
   "metadata": {},
   "outputs": [
    {
     "name": "stdout",
     "output_type": "stream",
     "text": [
      "GET datos 2829\n",
      "GET datos 2817\n",
      "GET datos 77879\n",
      "GET datos 2828\n",
      "GET datos 2833\n",
      "GET datos 2819\n",
      "GET datos 2824\n",
      "GET datos 2816\n",
      "GET datos 2825\n",
      "GET datos 2821\n",
      "GET datos 2858\n",
      "GET datos 2859\n",
      "GET datos 2826\n",
      "GET datos 24264\n",
      "GET datos 33779\n",
      "GET datos 4488\n",
      "GET datos 2885\n",
      "GET datos 2818\n",
      "GET datos 2820\n",
      "GET datos 6577\n",
      "Todos los datos guardados enestadisticas_partidos/equipos_data.json\n"
     ]
    }
   ],
   "source": [
    "import requests\n",
    "\n",
    "url = \"https://sofascore.p.rapidapi.com/teams/get-last-matches\"\n",
    "equipos_data = {}\n",
    "\n",
    "for team_id in ids_equipos:\n",
    "    querystring = {\"teamId\": str(team_id), \"pageIndex\": \"0\"}\n",
    "\n",
    "    response = requests.get(url, headers=headers, params=querystring)\n",
    "\n",
    "    if response.status_code == 200:\n",
    "        data = response.json()\n",
    "\n",
    "        # Almacena la respuesta en el diccionario usando el ID del equipo como clave\n",
    "        equipos_data[str(team_id)] = data\n",
    "        print(f\"GET datos {team_id}\")\n",
    "    else:\n",
    "        print(f\"Error al obtener datos para el equipo con ID {team_id}. Código de estado: {response.status_code}\")\n",
    "\n",
    "# Guarda el diccionario en un archivo JSON\n",
    "file_name = 'estadisticas_partidos/estadisticas _ultimos_partidos_todos_equipos.json'\n",
    "with open(file_name, 'w') as file:\n",
    "    json.dump(equipos_data, file, indent=4)\n",
    "\n",
    "print(f\"Todos los datos guardados en{file_name}\")"
   ]
  },
  {
   "cell_type": "code",
   "execution_count": null,
   "id": "61f13219-6d0a-480b-bf16-0f9fa5911d4e",
   "metadata": {},
   "outputs": [],
   "source": []
  },
  {
   "cell_type": "code",
   "execution_count": null,
   "id": "04565c8c-0413-4547-88e9-f47e16b59f7f",
   "metadata": {},
   "outputs": [],
   "source": []
  }
 ],
 "metadata": {
  "kernelspec": {
   "display_name": "Python 3",
   "language": "python",
   "name": "python3"
  },
  "language_info": {
   "codemirror_mode": {
    "name": "ipython",
    "version": 3
   },
   "file_extension": ".py",
   "mimetype": "text/x-python",
   "name": "python",
   "nbconvert_exporter": "python",
   "pygments_lexer": "ipython3",
   "version": "3.8.8"
  }
 },
 "nbformat": 4,
 "nbformat_minor": 5
}

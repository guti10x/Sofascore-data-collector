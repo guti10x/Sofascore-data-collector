{
 "cells": [
  {
   "cell_type": "markdown",
   "id": "452cb0a7-1ac2-470e-b7fa-b05b287a2f20",
   "metadata": {},
   "source": [
    "# GET información de los partidos"
   ]
  },
  {
   "cell_type": "code",
   "execution_count": 1,
   "id": "5a9889fa-eeb0-4849-88b0-6e8be47b4505",
   "metadata": {},
   "outputs": [],
   "source": [
    "import requests\n",
    "import json \n",
    "import os\n",
    "import regex \n",
    "\n",
    "headers = {\n",
    "\t\"X-RapidAPI-Key\": \"9501611b6amsh9cc47bda49e4b1ep1ac05cjsne72511c5c3d4\",\n",
    "\t\"X-RapidAPI-Host\": \"sofascore.p.rapidapi.com\"\n",
    "}"
   ]
  },
  {
   "cell_type": "markdown",
   "id": "cd4f4d9e-ce26-44c9-8ae3-27b22aba84a8",
   "metadata": {},
   "source": [
    "### Obtenemos id de todos los equipo de LaLiga en la Api de sofaescore"
   ]
  },
  {
   "cell_type": "code",
   "execution_count": 2,
   "id": "c891e6bb-7400-4a56-9b65-4f20678d55b0",
   "metadata": {},
   "outputs": [
    {
     "name": "stdout",
     "output_type": "stream",
     "text": [
      "GET ID: Real Madrid: 2829\n",
      "GET ID: Barcelona: 2817\n",
      "GET ID: Atlético de Madrid: 77879\n",
      "GET ID: Valencia: 2828\n",
      "GET ID: Sevilla: 2833\n",
      "GET ID: Villarreal: 2819\n",
      "GET ID: Real Sociedad: 2824\n",
      "GET ID: Real Betis: 2816\n",
      "GET ID: Athletic Club: 2825\n",
      "GET ID: Celta Vigo: 2821\n",
      "GET ID: Almeria: 2858\n",
      "GET ID: Getafe: 2859\n",
      "GET ID: Mallorca: 2826\n",
      "GET ID: Girona: 24264\n",
      "GET ID: Granada: 33779\n",
      "GET ID: Cadiz: 4488\n",
      "GET ID: Alavés: 2885\n",
      "GET ID: Rayo Vallecano: 2818\n",
      "GET ID: Osasuna: 2820\n",
      "GET ID: Las Palmas: 6577\n"
     ]
    }
   ],
   "source": [
    "url = \"https://sofascore.p.rapidapi.com/teams/search\"\n",
    "\n",
    "equipos = [\"Real Madrid\", \"Barcelona\", \"Atlético de Madrid\", \"Valencia\", \"Sevilla\", \"Villarreal\", \"Real Sociedad\", \"Real Betis\", \"Athletic Club\", \"Celta Vigo\", \"Almeria\", \"Getafe\", \"Mallorca\", \"Girona\", \"Granada\", \"Cadiz\", \"Alavés\", \"Rayo Vallecano\", \"Osasuna\", \"Las Palmas\"]\n",
    "\n",
    "ids_equipos = []\n",
    "\n",
    "for equipo in equipos:\n",
    "    response = requests.get(url, headers=headers, params={\"name\": equipo})\n",
    "    data = response.json()\n",
    "    if data['teams']:\n",
    "        equipo_id = data['teams'][0]['id']\n",
    "        ids_equipos.append(equipo_id)\n",
    "        print(f\"GET ID: {equipo}: {equipo_id}\")"
   ]
  },
  {
   "cell_type": "markdown",
   "id": "447a47e0-887d-4525-a1d0-b7734571c085",
   "metadata": {},
   "source": [
    "### Obtenemos ultimos 29 partidos de todos los equipos de LaLiga"
   ]
  },
  {
   "cell_type": "code",
   "execution_count": 3,
   "id": "8155ef3e-e7a3-46b8-9cad-332dfb36ecd5",
   "metadata": {},
   "outputs": [
    {
     "name": "stdout",
     "output_type": "stream",
     "text": [
      "GET info de 2829\n",
      "GET info de 2817\n",
      "GET info de 77879\n",
      "GET info de 2828\n",
      "GET info de 2833\n",
      "GET info de 2819\n",
      "GET info de 2824\n",
      "GET info de 2816\n",
      "GET info de 2825\n",
      "GET info de 2821\n",
      "GET info de 2858\n",
      "GET info de 2859\n",
      "GET info de 2826\n",
      "GET info de 24264\n",
      "GET info de 33779\n",
      "GET info de 4488\n",
      "GET info de 2885\n",
      "GET info de 2818\n",
      "GET info de 2820\n",
      "GET info de 6577\n"
     ]
    }
   ],
   "source": [
    "url = \"https://sofascore.p.rapidapi.com/teams/get-last-matches\"\n",
    "equipos_data = {}\n",
    "\n",
    "for team_id in ids_equipos:\n",
    "    querystring = {\"teamId\": str(team_id), \"pageIndex\": \"0\"}\n",
    "\n",
    "    response = requests.get(url, headers=headers, params=querystring)\n",
    "\n",
    "    if response.status_code == 200:\n",
    "        data = response.json()\n",
    "\n",
    "        # Almacena la respuesta en el diccionario usando el ID del equipo como clave\n",
    "        equipos_data[str(team_id)] = data\n",
    "        print(f\"GET info de {team_id}\")\n",
    "    else:\n",
    "        print(f\"Error al obtener datos para el equipo con ID {team_id}. Código de estado: {response.status_code}\")"
   ]
  },
  {
   "cell_type": "markdown",
   "id": "ac70dd23-6e8d-41be-b47a-fd2d67d8c877",
   "metadata": {
    "jupyter": {
     "outputs_hidden": true
    },
    "tags": []
   },
   "source": [
    "### Selecionamos el id de los últimos partidos disputados de todos los equipos de LaLiga"
   ]
  },
  {
   "cell_type": "code",
   "execution_count": 47,
   "id": "1aab457a-1f91-4799-b813-0094944e3193",
   "metadata": {},
   "outputs": [
    {
     "name": "stdout",
     "output_type": "stream",
     "text": [
      "Matches IDs:\n",
      "Total IDs:40\n",
      "[11605847, 11369354, 11369353, 11369359, 11695187, 11478200, 11369340, 11369350, 11369364, 11605843, 11369356, 11369366, 11369363, 11605831, 11369361, 11608617, 11369344, 11369352, 11369349, 11369360, 11369352, 11369358, 11369341, 11369349, 11369350, 11369363, 11369348, 11369358, 11369335, 11369353, 11369336, 11369348, 11369351, 11369366, 11369346, 11369355, 11369354, 11733377, 11369356, 11369357]\n"
     ]
    }
   ],
   "source": [
    "ids_matches = []\n",
    "\n",
    "for equipo_id in ids_equipos:\n",
    "    for i in range(2):\n",
    "        match_id = equipos_data[str(equipo_id)][\"events\"][25+i][\"id\"]\n",
    "        ids_matches.append(match_id)\n",
    "\n",
    "# Print all the stored match IDs\n",
    "print(\"Matches IDs:\")\n",
    "print(\"Total IDs:\" + str(len(ids_matches)))\n",
    "print(ids_matches)\n"
   ]
  },
  {
   "cell_type": "markdown",
   "id": "4877f627-0a32-4df0-8856-2d3317e6e995",
   "metadata": {},
   "source": [
    "### Obtenemos los incidentes de todos de todos los últimos partidos disputados de todos los partidos de LaLiga"
   ]
  },
  {
   "cell_type": "code",
   "execution_count": 48,
   "id": "4fc4feff-156e-427d-b073-987a39ddf057",
   "metadata": {},
   "outputs": [],
   "source": [
    "url = \"https://sofascore.p.rapidapi.com/matches/get-incidents\"\n",
    "\n",
    "resultados = {}  # Diccionario para almacenar los resultados\n",
    "\n",
    "for match_id in ids_matches:\n",
    "    querystring = {\"matchId\": str(match_id)}\n",
    "    response = requests.get(url, headers=headers, params=querystring)\n",
    "    resultados[str(match_id)] = response.json()"
   ]
  },
  {
   "cell_type": "markdown",
   "id": "4976c84f-9b02-4f79-90f9-ba41bad96f0b",
   "metadata": {},
   "source": [
    "#### Archivo con todas las tarjetas rojas de todos los últimos partidos disputados de todos los partidos de LaLiga\n",
    "#### Archivo con todas las tarjetas amarillas de todos los últimos partidos disputados de todos los partidos de LaLiga\n",
    "#### Archivo con todas las sustituciones de todos los últimos partidos disputados de todos los partidos de LaLiga\n",
    "#### Archivo con todas los goles de todos los últimos partidos disputados de todos los partidos de LaLiga\n",
    "#### Archivo con todas los asistentes de todos los últimos partidos disputados de todos los partidos de LaLiga"
   ]
  },
  {
   "cell_type": "code",
   "execution_count": 49,
   "id": "d88c374f-c47f-4368-a66e-1bd328157996",
   "metadata": {},
   "outputs": [
    {
     "name": "stdout",
     "output_type": "stream",
     "text": [
      "wtf\n",
      "wtf\n",
      "wtf\n",
      "Guardado tarjetas Amarillas\n",
      "Guardado tarjetas Rojas\n",
      "Guardado sustituciones\n",
      "Guardado goleadores\n",
      "Guardado asistentes\n"
     ]
    }
   ],
   "source": [
    "tarjetasAmarillas = [] \n",
    "tarjetasRojas = [] \n",
    "sustituciones = [] \n",
    "goleadores= [] \n",
    "asistentes= [] \n",
    "\n",
    "for match_id in ids_matches:\n",
    "    incidencias=resultados[str(match_id)]['incidents']\n",
    "    cantidad_incidencias = len(incidencias)\n",
    "    \n",
    "    for incidencia in range(cantidad_incidencias):\n",
    "        tipo_incidencia = resultados[str(match_id)]['incidents'][incidencia]['incidentType']\n",
    "        \n",
    "        if tipo_incidencia == \"card\":\n",
    "            tipo_card = resultados[str(match_id)]['incidents'][incidencia]['incidentClass']\n",
    "\n",
    "            if tipo_card == \"yellow\":\n",
    "                tarjetasAmarillas.append(resultados[str(match_id)]['incidents'][incidencia])\n",
    "\n",
    "            elif tipo_card == \"red\":\n",
    "                tarjetasRojas.append(resultados[str(match_id)]['incidents'][incidencia])\n",
    "                \n",
    "            else:\n",
    "                print(\"wtf\")\n",
    "        elif tipo_incidencia == \"substitution\":\n",
    "            sustituciones.append(resultados[str(match_id)]['incidents'][incidencia])\n",
    "    \n",
    "        elif tipo_incidencia == \"goal\":\n",
    "            gol=resultados[str(match_id)]['incidents'][incidencia]\n",
    "            \n",
    "            goleadores.append(gol)\n",
    "            \n",
    "            if 'assist1' in gol:\n",
    "                asistentes.append(resultados[str(match_id)]['incidents'][incidencia]['assist1'])\n",
    "    \n",
    "    \n",
    "tarjetas_amarillas_json = json.dumps(tarjetasAmarillas)\n",
    "tarjetas_rojas_json = json.dumps(tarjetasRojas)\n",
    "sustituciones_json = json.dumps(sustituciones) \n",
    "goleadores_json = json.dumps(goleadores)\n",
    "asistentes_json = json.dumps(asistentes)\n",
    "\n",
    "file_name = 'datos_partidos/tarjetas_amarillas_ultimos_partidos_todos_equipos.json'\n",
    "with open(file_name, 'w') as file:\n",
    "    file.write(tarjetas_amarillas_json)\n",
    "    print(\"Guardado tarjetas Amarillas\")\n",
    "    \n",
    "file_name = 'datos_partidos/tarjetas_rojas_ultimos_partidos_todos_equipos.json'\n",
    "with open(file_name, 'w') as file:\n",
    "    file.write(tarjetas_rojas_json)\n",
    "    print(\"Guardado tarjetas Rojas\")\n",
    "    \n",
    "file_name = 'datos_partidos/sustituciones_ultimos_partidos_todos_equipos.json'\n",
    "with open(file_name, 'w') as file:\n",
    "    file.write(sustituciones_json)\n",
    "    print(\"Guardado sustituciones\")\n",
    "    \n",
    "file_name = 'datos_partidos/goleadores_ultimos_partidos_todos_equipos.json'\n",
    "with open(file_name, 'w') as file:\n",
    "    file.write(goleadores_json)\n",
    "    print(\"Guardado goleadores\")\n",
    "\n",
    "file_name = 'datos_partidos/asistentes_ultimos_partidos_todos_equipos.json'\n",
    "with open(file_name, 'w') as file:\n",
    "    file.write(asistentes_json)\n",
    "    print(\"Guardado asistentes\")"
   ]
  },
  {
   "cell_type": "markdown",
   "id": "0a2dbeae-6c27-4b32-98a7-48bc621debf3",
   "metadata": {},
   "source": [
    "### Listado de todos los \"men of the match\" de todos los últimos partidos disputados de todos los partidos de LaLiga"
   ]
  },
  {
   "cell_type": "code",
   "execution_count": 50,
   "id": "c0e2393e-7808-4995-8fb1-c9f74e88e321",
   "metadata": {},
   "outputs": [
    {
     "name": "stdout",
     "output_type": "stream",
     "text": [
      "Todos los datos guardados endatos_partidos/men_of_the_match_ultimos_partidos_todos_equipos.json\n"
     ]
    }
   ],
   "source": [
    "menMatch = {}\n",
    "\n",
    "url = \"https://sofascore.p.rapidapi.com/matches/get-best-players\"\n",
    "\n",
    "for match_id in ids_matches:\n",
    "    querystring = {\"matchId\": str(match_id)}\n",
    "    response = requests.get(url, headers=headers, params=querystring)\n",
    "    menMatch[str(match_id)] = response.json()\n",
    "    \n",
    "# Guarda el diccionario en un archivo JSON\n",
    "file_name = 'datos_partidos/men_of_the_match_ultimos_partidos_todos_equipos.json'\n",
    "with open(file_name, 'w') as file:\n",
    "    json.dump(menMatch, file, indent=4)\n",
    "\n",
    "print(f\"Todos los datos guardados en{file_name}\")"
   ]
  },
  {
   "cell_type": "markdown",
   "id": "67ea7611-5d05-4203-921c-2e7cb6e565a1",
   "metadata": {},
   "source": [
    "### Listado de todos los jugadores que son titulares de todos los últimos partidos disputados de todos los partidos de LaLiga"
   ]
  },
  {
   "cell_type": "code",
   "execution_count": 51,
   "id": "d789bca7-17be-4469-9cdd-942921a16d85",
   "metadata": {},
   "outputs": [
    {
     "name": "stdout",
     "output_type": "stream",
     "text": [
      "Todos los datos guardados endatos_partidos/jugadores_titulares_ultimos_partidos_todos_equipos.json\n"
     ]
    }
   ],
   "source": [
    "url = \"https://sofascore.p.rapidapi.com/matches/get-lineups\"\n",
    "\n",
    "titulares = {}\n",
    "\n",
    "for match_id in ids_matches:\n",
    "    querystring = {\"matchId\": str(match_id)}\n",
    "    response = requests.get(url, headers=headers, params=querystring)\n",
    "    titulares[str(match_id)] = response.json()\n",
    "    \n",
    "# Guarda el diccionario en un archivo JSON\n",
    "file_name = 'datos_partidos/jugadores_titulares_ultimos_partidos_todos_equipos.json'\n",
    "with open(file_name, 'w') as file:\n",
    "    json.dump(titulares, file, indent=4)\n",
    "\n",
    "print(f\"Todos los datos guardados en{file_name}\")"
   ]
  },
  {
   "cell_type": "markdown",
   "id": "14885ab0-2e49-4ace-bb69-39044df51a64",
   "metadata": {},
   "source": [
    "### Listado de todas las estadisticas de todos los últimos partidos disputados de todos los partidos de LaLiga"
   ]
  },
  {
   "cell_type": "code",
   "execution_count": null,
   "id": "faa51685-02b8-4003-90fa-93629a17a869",
   "metadata": {},
   "outputs": [],
   "source": [
    "url = \"https://sofascore.p.rapidapi.com/matches/get-statistics\"\n",
    "\n",
    "estadisticaspartidos = {}\n",
    "\n",
    "for match_id in ids_matches:\n",
    "    querystring = {\"matchId\": str(match_id)}\n",
    "    response = requests.get(url, headers=headers, params=querystring)\n",
    "    estadisticaspartidos[str(match_id)] = response.json()\n",
    "    \n",
    "# Guarda el diccionario en un archivo JSON\n",
    "file_name = 'datos_partidos/estadisticas_ultimos_partidos_todos_equipos.json'\n",
    "with open(file_name, 'w') as file:\n",
    "    json.dump(estadisticaspartidos, file, indent=4)\n",
    "\n",
    "print(f\"Todos los datos guardados en{file_name}\")"
   ]
  }
 ],
 "metadata": {
  "kernelspec": {
   "display_name": "Python 3",
   "language": "python",
   "name": "python3"
  },
  "language_info": {
   "codemirror_mode": {
    "name": "ipython",
    "version": 3
   },
   "file_extension": ".py",
   "mimetype": "text/x-python",
   "name": "python",
   "nbconvert_exporter": "python",
   "pygments_lexer": "ipython3",
   "version": "3.8.8"
  }
 },
 "nbformat": 4,
 "nbformat_minor": 5
}

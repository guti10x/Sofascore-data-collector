{
 "cells": [
  {
   "cell_type": "markdown",
   "id": "452cb0a7-1ac2-470e-b7fa-b05b287a2f20",
   "metadata": {},
   "source": [
    "# GET información de los partidos"
   ]
  },
  {
   "cell_type": "code",
   "execution_count": 1,
   "id": "5a9889fa-eeb0-4849-88b0-6e8be47b4505",
   "metadata": {},
   "outputs": [],
   "source": [
    "import requests\n",
    "import json \n",
    "import os\n",
    "import regex \n",
    "\n",
    "headers = {\n",
    "\t\"X-RapidAPI-Key\": \"7aee3d593emshacd060791896a0cp185273jsne6640359eeca\",\n",
    "\t\"X-RapidAPI-Host\": \"sofascore.p.rapidapi.com\"\n",
    "}"
   ]
  },
  {
   "cell_type": "markdown",
   "id": "cd4f4d9e-ce26-44c9-8ae3-27b22aba84a8",
   "metadata": {},
   "source": [
    "### Obtenemos id de cada equipo en la Api de sofaescore"
   ]
  },
  {
   "cell_type": "code",
   "execution_count": 5,
   "id": "c891e6bb-7400-4a56-9b65-4f20678d55b0",
   "metadata": {},
   "outputs": [
    {
     "name": "stdout",
     "output_type": "stream",
     "text": [
      "GET ID: Real Madrid: 2829\n",
      "GET ID: Barcelona: 2817\n",
      "GET ID: Atlético de Madrid: 77879\n",
      "GET ID: Valencia: 2828\n",
      "GET ID: Sevilla: 2833\n",
      "GET ID: Villarreal: 2819\n",
      "GET ID: Real Sociedad: 2824\n",
      "GET ID: Real Betis: 2816\n",
      "GET ID: Athletic Club: 2825\n",
      "GET ID: Celta Vigo: 2821\n",
      "GET ID: Almeria: 2858\n",
      "GET ID: Getafe: 2859\n",
      "GET ID: Mallorca: 2826\n",
      "GET ID: Girona: 24264\n",
      "GET ID: Granada: 33779\n",
      "GET ID: Cadiz: 4488\n",
      "GET ID: Alavés: 2885\n",
      "GET ID: Rayo Vallecano: 2818\n",
      "GET ID: Osasuna: 2820\n",
      "GET ID: Las Palmas: 6577\n",
      "[2829, 2817, 77879, 2828, 2833, 2819, 2824, 2816, 2825, 2821, 2858, 2859, 2826, 24264, 33779, 4488, 2885, 2818, 2820, 6577]\n"
     ]
    }
   ],
   "source": [
    "url = \"https://sofascore.p.rapidapi.com/teams/search\"\n",
    "\n",
    "equipos = [\"Real Madrid\", \"Barcelona\", \"Atlético de Madrid\", \"Valencia\", \"Sevilla\", \"Villarreal\", \"Real Sociedad\", \"Real Betis\", \"Athletic Club\", \"Celta Vigo\", \"Almeria\", \"Getafe\", \"Mallorca\", \"Girona\", \"Granada\", \"Cadiz\", \"Alavés\", \"Rayo Vallecano\", \"Osasuna\", \"Las Palmas\"]\n",
    "\n",
    "ids_equipos = []\n",
    "\n",
    "for equipo in equipos:\n",
    "    response = requests.get(url, headers=headers, params={\"name\": equipo})\n",
    "    data = response.json()\n",
    "    if data['teams']:\n",
    "        equipo_id = data['teams'][0]['id']\n",
    "        ids_equipos.append(equipo_id)\n",
    "        print(f\"GET ID: {equipo}: {equipo_id}\")\n",
    "\n",
    "print(ids_equipos)"
   ]
  },
  {
   "cell_type": "markdown",
   "id": "447a47e0-887d-4525-a1d0-b7734571c085",
   "metadata": {},
   "source": [
    "### Obtenemos ultimos partidos de los equipos"
   ]
  },
  {
   "cell_type": "code",
   "execution_count": 6,
   "id": "8155ef3e-e7a3-46b8-9cad-332dfb36ecd5",
   "metadata": {},
   "outputs": [
    {
     "name": "stdout",
     "output_type": "stream",
     "text": [
      "GET info de 2829\n",
      "GET info de 2817\n",
      "GET info de 77879\n",
      "GET info de 2828\n",
      "GET info de 2833\n",
      "GET info de 2819\n",
      "GET info de 2824\n",
      "GET info de 2816\n",
      "GET info de 2825\n",
      "GET info de 2821\n",
      "GET info de 2858\n",
      "GET info de 2859\n",
      "GET info de 2826\n",
      "GET info de 24264\n",
      "GET info de 33779\n",
      "GET info de 4488\n",
      "GET info de 2885\n",
      "GET info de 2818\n",
      "GET info de 2820\n",
      "GET info de 6577\n"
     ]
    }
   ],
   "source": [
    "url = \"https://sofascore.p.rapidapi.com/teams/get-last-matches\"\n",
    "equipos_data = {}\n",
    "\n",
    "for team_id in ids_equipos:\n",
    "    querystring = {\"teamId\": str(team_id), \"pageIndex\": \"0\"}\n",
    "\n",
    "    response = requests.get(url, headers=headers, params=querystring)\n",
    "\n",
    "    if response.status_code == 200:\n",
    "        data = response.json()\n",
    "\n",
    "        # Almacena la respuesta en el diccionario usando el ID del equipo como clave\n",
    "        equipos_data[str(team_id)] = data\n",
    "        print(f\"GET info de {team_id}\")\n",
    "    else:\n",
    "        print(f\"Error al obtener datos para el equipo con ID {team_id}. Código de estado: {response.status_code}\")"
   ]
  },
  {
   "cell_type": "markdown",
   "id": "ac70dd23-6e8d-41be-b47a-fd2d67d8c877",
   "metadata": {
    "jupyter": {
     "outputs_hidden": true
    },
    "tags": []
   },
   "source": [
    "### Obtenemos el id de todos los últimos partidos disputados de todos los partidos de LaLiga"
   ]
  },
  {
   "cell_type": "code",
   "execution_count": 8,
   "id": "1aab457a-1f91-4799-b813-0094944e3193",
   "metadata": {},
   "outputs": [
    {
     "name": "stdout",
     "output_type": "stream",
     "text": [
      "Matches IDs:\n",
      "Total IDs:400\n",
      "[11137261, 10408427, 10408437, 10408446, 10408473, 11194439, 11224240, 10408479, 11224737, 10408258, 10408267, 10408309, 10408294, 11327909, 11327936, 11331884, 11493589, 11369286, 11368609, 11368593, 10408406, 10408418, 10408421, 10408574, 10408445, 10408580, 10408466, 10408495, 10408290, 10408288, 10408291, 11288178, 11327906, 11327934, 11331884, 11331800, 11504128, 11369291, 11368595, 11368592, 10607471, 10607581, 10915788, 10607591, 10607600, 10607605, 10607615, 10607622, 10607631, 11047535, 10607637, 10607651, 10607652, 10607660, 10607673, 10607683, 10607691, 10607694, 10607705, 10607715, 10408397, 10408394, 10408395, 10408409, 10408420, 10408562, 10408577, 10408573, 10408440, 10408464, 10408470, 10408258, 10408273, 10408278, 10408293, 11411229, 11364743, 11412967, 11392938, 11364330, 11226801, 10408493, 11226802, 10408274, 10408257, 10408309, 11292198, 10408303, 11406674, 11406671, 11420798, 11406669, 11406675, 11288185, 11273195, 11273196, 11369289, 11343676, 11368601, 11368596, 10408424, 10408441, 10408444, 10408442, 10408464, 10408476, 10408266, 10408281, 10408277, 10408304, 11341561, 11341562, 11341558, 11412966, 11396983, 11418202, 11418212, 11369292, 11368598, 11368592, 10408556, 10408558, 10408414, 10408571, 10408432, 10408576, 10408473, 10408588, 10408495, 10408271, 10408283, 10408303, 11372897, 11396992, 11336954, 11273194, 11273197, 11369293, 11368605, 11368608, 10408413, 10408435, 10408425, 10408432, 10408445, 10408575, 10408472, 10408274, 10408256, 10408296, 10408293, 11411048, 11433861, 11412978, 11459950, 11273195, 11273197, 11369292, 11368597, 11368591, 10408396, 10408402, 11027943, 10408434, 10408414, 10408572, 10408433, 10408582, 10408575, 10408476, 10408483, 10408268, 10408270, 10408294, 11327992, 11328053, 11364820, 11331892, 11364796, 11360181, 10408544, 10408553, 10408554, 10408423, 10408565, 10408427, 10408428, 10408442, 10408462, 10408470, 10408483, 10408260, 10408285, 10408291, 11396985, 11396997, 11412962, 11458997, 11511509, 11369288, 10408548, 10408551, 10408554, 10408420, 10408429, 10408572, 10408443, 10408446, 10408587, 10408593, 10408590, 10408271, 10408280, 10408317, 11429693, 11412960, 11439248, 11487606, 11504632, 11369285, 10408399, 11150991, 10408402, 10408558, 10408418, 10408569, 10408443, 10408456, 10408462, 10408479, 10408263, 10408256, 10408286, 10408295, 11412475, 11411230, 11444954, 11375560, 11493403, 11490771, 10408398, 10408400, 10408417, 10408412, 10408565, 10408569, 10408430, 10408582, 10408579, 10408463, 10408590, 10408273, 10408288, 10408297, 11411051, 11435141, 11415679, 11472439, 11412975, 11509749, 10408555, 10408416, 10408406, 10408567, 10408568, 10408437, 10408583, 10408579, 10408588, 10408266, 10408260, 10408296, 10408308, 11372946, 11392936, 11412961, 11360176, 11469802, 11493615, 11369293, 10409252, 10409253, 10409418, 10409345, 10409347, 10409365, 10409374, 10409381, 10409384, 10409402, 10409303, 10409313, 10409320, 10409330, 10409460, 10409427, 10409461, 11460166, 11493403, 11504632, 10408410, 10408551, 10408408, 10408413, 10408426, 10408570, 10408431, 10408440, 10408592, 10408463, 10408595, 10408281, 10408285, 10408307, 11412477, 11447345, 11473545, 11396972, 11491717, 11508947, 10409439, 10409449, 10409390, 10409310, 10409403, 10409410, 10409330, 10409435, 10409443, 10409464, 11315728, 11315768, 11340027, 11340032, 11392941, 11392942, 11392940, 11392938, 11396988, 11441905, 10408544, 10408555, 10408409, 10408415, 10408419, 10408571, 10408574, 10408578, 10408585, 10408472, 10408264, 10408267, 10408277, 10408297, 11436100, 11463223, 11473172, 11490775, 11396721, 11369285, 10408425, 10408431, 10408576, 10408580, 11194439, 10408593, 10408477, 10408268, 10408286, 10408308, 11377182, 11372902, 11372897, 11377219, 11377174, 11396988, 11396989, 11369288, 11368603, 11549267, 10409355, 10409438, 10409376, 10409387, 10409392, 10409303, 10409405, 10409409, 10409328, 10409441, 10409448, 10409464, 11396974, 11461925, 11412960, 11412958, 11396972, 11484521, 11369290, 11368600]\n"
     ]
    }
   ],
   "source": [
    "ids_matches = []\n",
    "\n",
    "for equipo_id in ids_equipos:\n",
    "    for i in range(20):\n",
    "        match_id = equipos_data[str(equipo_id)][\"events\"][i][\"id\"]\n",
    "        ids_matches.append(match_id)\n",
    "\n",
    "# Print all the stored match IDs\n",
    "print(\"Matches IDs:\")\n",
    "print(\"Total IDs:\" + str(len(ids_matches)))\n",
    "print(ids_matches)\n"
   ]
  },
  {
   "cell_type": "markdown",
   "id": "91fe7a1b-395d-448a-b864-03df83eb7d2c",
   "metadata": {},
   "source": [
    "### Obtenemos los incidentes de todos de todos los últimos partidos disputados de todos los partidos de LaLiga"
   ]
  },
  {
   "cell_type": "code",
   "execution_count": 9,
   "id": "bc66a4ea-c6f8-4dc2-9fd3-7901ed6e66cb",
   "metadata": {},
   "outputs": [],
   "source": [
    "ids_matches=[11137259, 10408426, 11137261, 10408427, 10408437]"
   ]
  },
  {
   "cell_type": "code",
   "execution_count": 10,
   "id": "4fc4feff-156e-427d-b073-987a39ddf057",
   "metadata": {},
   "outputs": [],
   "source": [
    "ids_matches=[11137259, 10408426, 11137261, 10408427, 10408437]\n",
    "url = \"https://sofascore.p.rapidapi.com/matches/get-incidents\"\n",
    "\n",
    "resultados = {}  # Diccionario para almacenar los resultados\n",
    "\n",
    "for match_id in ids_matches:\n",
    "    querystring = {\"matchId\": str(match_id)}\n",
    "    response = requests.get(url, headers=headers, params=querystring)\n",
    "    resultados[str(match_id)] = response.json()"
   ]
  },
  {
   "cell_type": "markdown",
   "id": "4976c84f-9b02-4f79-90f9-ba41bad96f0b",
   "metadata": {},
   "source": [
    "#### Archivo con todas las tarjetas rojas de todos los últimos partidos disputados de todos los partidos de LaLiga\n",
    "#### Archivo con todas las tarjetas amarillas de todos los últimos partidos disputados de todos los partidos de LaLiga\n",
    "#### Archivo con todas lassustituciones de todos los últimos partidos disputados de todos los partidos de LaLiga\n",
    "#### Archivo con todas los goles de todos los últimos partidos disputados de todos los partidos de LaLiga\n",
    "#### Archivo con todas los asistentes de todos los últimos partidos disputados de todos los partidos de LaLiga"
   ]
  },
  {
   "cell_type": "code",
   "execution_count": 11,
   "id": "d88c374f-c47f-4368-a66e-1bd328157996",
   "metadata": {},
   "outputs": [
    {
     "name": "stdout",
     "output_type": "stream",
     "text": [
      "Guardado tarjetas Amarillas\n",
      "Guardado tarjetas Rojas\n",
      "Guardado sustituciones\n",
      "Guardado goleadores\n",
      "Guardado asistentes\n"
     ]
    }
   ],
   "source": [
    "tarjetasAmarillas = [] \n",
    "tarjetasRojas = [] \n",
    "sustituciones = [] \n",
    "goleadores= [] \n",
    "asistentes= [] \n",
    "\n",
    "for match_id in ids_matches:\n",
    "    incidencias=resultados[str(match_id)]['incidents']\n",
    "    cantidad_incidencias = len(incidencias)\n",
    "    \n",
    "    for incidencia in range(cantidad_incidencias):\n",
    "        tipo_incidencia = resultados[str(match_id)]['incidents'][incidencia]['incidentType']\n",
    "        \n",
    "        if tipo_incidencia == \"card\":\n",
    "            tipo_card = resultados[str(match_id)]['incidents'][incidencia]['incidentClass']\n",
    "\n",
    "            if tipo_card == \"yellow\":\n",
    "                tarjetasAmarillas.append(resultados[str(match_id)]['incidents'][incidencia])\n",
    "\n",
    "            elif tipo_card == \"red\":\n",
    "                tarjetasRojas.append(resultados[str(match_id)]['incidents'][incidencia])\n",
    "                \n",
    "            else:\n",
    "                print(\"wtf\")\n",
    "        elif tipo_incidencia == \"substitution\":\n",
    "            sustituciones.append(resultados[str(match_id)]['incidents'][incidencia])\n",
    "    \n",
    "        elif tipo_incidencia == \"goal\":\n",
    "            gol=resultados[str(match_id)]['incidents'][incidencia]\n",
    "            \n",
    "            goleadores.append(gol)\n",
    "            \n",
    "            if 'assist1' in gol:\n",
    "                asistentes.append(resultados[str(match_id)]['incidents'][incidencia]['assist1'])\n",
    "    \n",
    "    \n",
    "tarjetas_amarillas_json = json.dumps(tarjetasAmarillas)\n",
    "tarjetas_rojas_json = json.dumps(tarjetasRojas)\n",
    "sustituciones_json = json.dumps(sustituciones) \n",
    "goleadores_json = json.dumps(goleadores)\n",
    "asistentes_json = json.dumps(asistentes)\n",
    "\n",
    "file_name = 'datos_partidos/tarjetas_amarillas_ultimos_partidos_todos_equipos.json'\n",
    "with open(file_name, 'w') as file:\n",
    "    file.write(tarjetas_amarillas_json)\n",
    "    print(\"Guardado tarjetas Amarillas\")\n",
    "    \n",
    "file_name = 'datos_partidos/tarjetas_rojas_ultimos_partidos_todos_equipos.json'\n",
    "with open(file_name, 'w') as file:\n",
    "    file.write(tarjetas_rojas_json)\n",
    "    print(\"Guardado tarjetas Rojas\")\n",
    "    \n",
    "file_name = 'datos_partidos/sustituciones_ultimos_partidos_todos_equipos.json'\n",
    "with open(file_name, 'w') as file:\n",
    "    file.write(sustituciones_json)\n",
    "    print(\"Guardado sustituciones\")\n",
    "    \n",
    "file_name = 'datos_partidos/goleadores_ultimos_partidos_todos_equipos.json'\n",
    "with open(file_name, 'w') as file:\n",
    "    file.write(goleadores_json)\n",
    "    print(\"Guardado goleadores\")\n",
    "\n",
    "file_name = 'datos_partidos/asistentes_ultimos_partidos_todos_equipos.json'\n",
    "with open(file_name, 'w') as file:\n",
    "    file.write(asistentes_json)\n",
    "    print(\"Guardado asistentes\")"
   ]
  },
  {
   "cell_type": "markdown",
   "id": "0a2dbeae-6c27-4b32-98a7-48bc621debf3",
   "metadata": {},
   "source": [
    "### Listado de todos los \"men of the match\" de todos los últimos partidos disputados de todos los partidos de LaLiga"
   ]
  },
  {
   "cell_type": "code",
   "execution_count": 12,
   "id": "c0e2393e-7808-4995-8fb1-c9f74e88e321",
   "metadata": {},
   "outputs": [
    {
     "name": "stdout",
     "output_type": "stream",
     "text": [
      "Todos los datos guardados endatos_partidos/men_of_the_match_ultimos_partidos_todos_equipos.json\n"
     ]
    }
   ],
   "source": [
    "ids_matches=[11137259, 10408426, 11137261, 10408427, 10408437]\n",
    "\n",
    "menMatch = {}\n",
    "\n",
    "url = \"https://sofascore.p.rapidapi.com/matches/get-best-players\"\n",
    "\n",
    "for match_id in ids_matches:\n",
    "    querystring = {\"matchId\": str(match_id)}\n",
    "    response = requests.get(url, headers=headers, params=querystring)\n",
    "    menMatch[str(match_id)] = response.json()\n",
    "    \n",
    "# Guarda el diccionario en un archivo JSON\n",
    "file_name = 'datos_partidos/men_of_the_match_ultimos_partidos_todos_equipos.json'\n",
    "with open(file_name, 'w') as file:\n",
    "    json.dump(menMatch, file, indent=4)\n",
    "\n",
    "print(f\"Todos los datos guardados en{file_name}\")"
   ]
  },
  {
   "cell_type": "markdown",
   "id": "67ea7611-5d05-4203-921c-2e7cb6e565a1",
   "metadata": {},
   "source": [
    "### Listado de todos los jugadores que son titulares de todos los últimos partidos disputados de todos los partidos de LaLiga"
   ]
  },
  {
   "cell_type": "code",
   "execution_count": 13,
   "id": "d789bca7-17be-4469-9cdd-942921a16d85",
   "metadata": {},
   "outputs": [
    {
     "name": "stdout",
     "output_type": "stream",
     "text": [
      "Todos los datos guardados endatos_partidos/jugadores_titulares_ultimos_partidos_todos_equipos.json\n"
     ]
    }
   ],
   "source": [
    "ids_matches=[11137259, 10408426, 11137261, 10408427, 10408437]\n",
    "url = \"https://sofascore.p.rapidapi.com/matches/get-lineups\"\n",
    "\n",
    "titulares = {}\n",
    "\n",
    "for match_id in ids_matches:\n",
    "    querystring = {\"matchId\": str(match_id)}\n",
    "    response = requests.get(url, headers=headers, params=querystring)\n",
    "    titulares[str(match_id)] = response.json()\n",
    "    \n",
    "# Guarda el diccionario en un archivo JSON\n",
    "file_name = 'datos_partidos/jugadores_titulares_ultimos_partidos_todos_equipos.json'\n",
    "with open(file_name, 'w') as file:\n",
    "    json.dump(titulares, file, indent=4)\n",
    "\n",
    "print(f\"Todos los datos guardados en{file_name}\")"
   ]
  },
  {
   "cell_type": "markdown",
   "id": "14885ab0-2e49-4ace-bb69-39044df51a64",
   "metadata": {},
   "source": [
    "### Listado de todas las estadisticas de todos los últimos partidos disputados de todos los partidos de LaLiga"
   ]
  },
  {
   "cell_type": "code",
   "execution_count": 14,
   "id": "faa51685-02b8-4003-90fa-93629a17a869",
   "metadata": {},
   "outputs": [
    {
     "name": "stdout",
     "output_type": "stream",
     "text": [
      "Todos los datos guardados endatos_partidos/estadisticas_ultimos_partidos_todos_equipos.json\n"
     ]
    }
   ],
   "source": [
    "url = \"https://sofascore.p.rapidapi.com/matches/get-statistics\"\n",
    "\n",
    "estadisticaspartidos = {}\n",
    "\n",
    "for match_id in ids_matches:\n",
    "    querystring = {\"matchId\": str(match_id)}\n",
    "    response = requests.get(url, headers=headers, params=querystring)\n",
    "    estadisticaspartidos[str(match_id)] = response.json()\n",
    "    \n",
    "# Guarda el diccionario en un archivo JSON\n",
    "file_name = 'datos_partidos/estadisticas_ultimos_partidos_todos_equipos.json'\n",
    "with open(file_name, 'w') as file:\n",
    "    json.dump(estadisticaspartidos, file, indent=4)\n",
    "\n",
    "print(f\"Todos los datos guardados en{file_name}\")"
   ]
  }
 ],
 "metadata": {
  "kernelspec": {
   "display_name": "Python 3",
   "language": "python",
   "name": "python3"
  },
  "language_info": {
   "codemirror_mode": {
    "name": "ipython",
    "version": 3
   },
   "file_extension": ".py",
   "mimetype": "text/x-python",
   "name": "python",
   "nbconvert_exporter": "python",
   "pygments_lexer": "ipython3",
   "version": "3.8.8"
  }
 },
 "nbformat": 4,
 "nbformat_minor": 5
}

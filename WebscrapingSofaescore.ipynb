{
 "cells": [
  {
   "cell_type": "code",
   "execution_count": 1,
   "id": "f8ea3cff-da13-4d58-bc7c-33afc9e5e6af",
   "metadata": {},
   "outputs": [],
   "source": [
    "from selenium import webdriver\n",
    "from selenium.webdriver.common.by import By\n",
    "from selenium.webdriver.common.action_chains import ActionChains\n",
    "import requests\n",
    "from bs4 import BeautifulSoup\n",
    "import time"
   ]
  },
  {
   "cell_type": "code",
   "execution_count": 2,
   "id": "d839b65c-7420-47c3-a901-583f3fbe7ef4",
   "metadata": {},
   "outputs": [],
   "source": [
    "urls_=[\"https://www.sofascore.com/real-madrid-chelsea/NsEgb#11137259\",\"https://www.sofascore.com/cadiz-real-madrid/EgbsNOb#10408426\",\"https://www.sofascore.com/real-madrid-chelsea/NsEgb#11137261\"]"
   ]
  },
  {
   "cell_type": "markdown",
   "id": "9e15e818-13b4-40d9-8f4f-dbf646cd76bf",
   "metadata": {},
   "source": [
    "#### Funcion para extraer todos los datos del performance de un jugador"
   ]
  },
  {
   "cell_type": "code",
   "execution_count": 3,
   "id": "e367c569-399d-43e8-8ca6-bced5574f13a",
   "metadata": {},
   "outputs": [],
   "source": [
    "def obtener_informacion_jugador():\n",
    "    # Obtiene el contenido HTML de la página\n",
    "    pagina_html = driver.page_source\n",
    "    #print(pagina_html)\n",
    "\n",
    "    # Utiliza BeautifulSoup para analizar el HTML\n",
    "    soup = BeautifulSoup(pagina_html, 'html.parser')\n",
    "\n",
    "    print(\"_______________________________\")\n",
    "\n",
    "    nombre= driver.find_element(By.XPATH,'//*[@id=\"__next\"]/main/div[3]/div/div/div/div[1]/div/div[1]/a/div')\n",
    "    print(nombre.text)\n",
    "    puntuacion= driver.find_element(By.XPATH,'//*[@id=\"__next\"]/main/div[3]/div/div/div/div[1]/div/div[2]/div/span')\n",
    "    print(puntuacion.text)\n",
    "\n",
    "    print(\"_______________________________\")\n",
    "\n",
    "    # DEVOLVER TODOS LOS PARÁMETROS DE RENDIMIENTO DEL JUGADOR: encontrar todos los div con la clase \"sc-fqkvVR sc-dcJsrY litZes eFJwJL\"\n",
    "    goal_elements = soup.find_all('div', class_='sc-fqkvVR sc-dcJsrY litZes eFJwJL')\n",
    "    for element in goal_elements:\n",
    "        # Encuentra el div con la clase \"sc-jEACwC hFGVAX\" y el span con la clase \"sc-jEACwC jnyhQn\" dentro de este div\n",
    "        div_goal = element.find('div', class_='sc-jEACwC hFGVAX')\n",
    "        span_goal = element.find('span', class_='sc-jEACwC jnyhQn')\n",
    "        if div_goal and span_goal:\n",
    "            print(div_goal.text)\n",
    "            print(span_goal.text)  "
   ]
  },
  {
   "cell_type": "markdown",
   "id": "546dcaf4-a3a2-4d05-93f8-eb47f73104d4",
   "metadata": {},
   "source": [
    "#### Obtener jugadores titulares del partido y hacer click sobre todos ellos"
   ]
  },
  {
   "cell_type": "markdown",
   "id": "38818790-b492-4b4a-afe8-86c730cf5223",
   "metadata": {},
   "source": [
    "###### (para que emerja la tarjeta de cada jugador y posteriormente poder extraer todas las estadísticas de cada jugador en el partido)"
   ]
  },
  {
   "cell_type": "code",
   "execution_count": 11,
   "id": "a32b4e67-4b38-4b63-bd4c-25f0aef04d19",
   "metadata": {
    "tags": []
   },
   "outputs": [
    {
     "name": "stdout",
     "output_type": "stream",
     "text": [
      "<selenium.webdriver.remote.webelement.WebElement (session=\"b44b0468469f40c9951a08177cc2b5c3\", element=\"8DCCA5E97F26B1785B3BCD29C4FC53DB_element_212\")>\n"
     ]
    }
   ],
   "source": [
    "# Crea una instancia del controlador del navegador\n",
    "driver = webdriver.Chrome()\n",
    "\n",
    "# Navega a la página web que deseas hacer scraping\n",
    "driver.get(\"https://www.sofascore.com/real-madrid-chelsea/NsEgb#11137259\")\n",
    "\n",
    "# Espera a que se cargue la página\n",
    "driver.implicitly_wait(15)\n",
    "    \n",
    "# Encuentra el botón de \"Consentir\" \n",
    "button = driver.find_element(By.XPATH, '//button[@aria-label=\"Consentir\"]')\n",
    "# Haz clic en el botón de \"Consentir\" \n",
    "button.click()\n",
    "\n",
    "html = driver.page_source\n",
    "soup = BeautifulSoup(html, 'html.parser')\n",
    "\n",
    "# Encuentra todos los elementos <a> con la clase 'sc-3937c22d-0 jrbLdB'\n",
    "divJugadores = driver.find_elements(By.XPATH, '//a[@class=\"sc-3937c22d-0 jrbLdB\"]')\n",
    "\n",
    "divJugadores[0].click()\n",
    "\n",
    "\n",
    "\"\"\"\n",
    "#Cerrar ventana\n",
    "x = driver.find_element(By.XPATH, '//*[@id=\"__next\"]/main/div[3]/div[1]/div/div/div[1]/div/div[1]/div/button[2]/svg')\n",
    "x.click()\n",
    "\n",
    "# Itera sobre los jugadores y haz click en cada uno\n",
    "for jugador in divJugadores:\n",
    "    jugador.click()\n",
    "\n",
    "#Número jugadres encontrados\n",
    "divJugadores = soup.find_all('a', class_='sc-3937c22d-0 jrbLdB')\n",
    "contador = len(divJugadores)\n",
    "print(f'Número de divs: {contador}')\n",
    "\n",
    "\"\"\"\n",
    "\n",
    "\n",
    "driver.quit()"
   ]
  },
  {
   "cell_type": "code",
   "execution_count": null,
   "id": "efed6b50-428c-490f-8ad9-0053d55a3f41",
   "metadata": {},
   "outputs": [],
   "source": []
  },
  {
   "cell_type": "code",
   "execution_count": 13,
   "id": "e41e22ab-4de8-4329-b1a8-223117b3567f",
   "metadata": {},
   "outputs": [
    {
     "name": "stdout",
     "output_type": "stream",
     "text": [
      "_______________________________\n",
      "Thibaut Courtois\n",
      "7.5\n",
      "_______________________________\n",
      "Minutes played\n",
      "90'\n",
      "Saves\n",
      "3\n",
      "Goals prevented\n",
      "1.38\n",
      "Punches\n",
      "0\n",
      "Runs out (succ.)\n",
      "0 (0)\n",
      "High claims\n",
      "0\n",
      "Saves from inside box\n",
      "3\n",
      "Touches\n",
      "23\n",
      "Acc. passes\n",
      "12/13 (92%)\n",
      "Key passes\n",
      "0\n",
      "Crosses (acc.)\n",
      "0 (0)\n",
      "Long balls (acc.)\n",
      "5 (4)\n",
      "Clearances\n",
      "0\n",
      "Blocked shots\n",
      "0\n",
      "Interceptions\n",
      "0\n",
      "Tackles\n",
      "0\n",
      "Dribbled past\n",
      "0\n",
      "Ground duels (won)\n",
      "0 (0)\n",
      "Aerial duels (won)\n",
      "0 (0)\n",
      "Fouls\n",
      "0\n",
      "Was fouled\n",
      "0\n",
      "Shots on target\n",
      "0\n",
      "Shots off target\n",
      "0\n",
      "Shots blocked\n",
      "0\n",
      "Dribble attempts (succ.)\n",
      "0 (0)\n"
     ]
    }
   ],
   "source": [
    "# Crea una instancia del controlador del navegador\n",
    "driver = webdriver.Chrome()\n",
    "\n",
    "# Navega a la página web que deseas hacer scraping\n",
    "driver.get(\"https://www.sofascore.com/real-madrid-chelsea/NsEgb#11137259\")\n",
    "\n",
    "# Espera a que se cargue la página\n",
    "driver.implicitly_wait(15)\n",
    "\n",
    "# Encuentra el botón de \"Consentir\" \n",
    "button = driver.find_element(By.XPATH, '//button[@aria-label=\"Consentir\"]')\n",
    "# Haz clic en el botón de \"Consentir\" \n",
    "button.click()\n",
    "\n",
    "XPATH_array=['//*[@id=\"__next\"]/main/div[2]/div[2]/div[1]/div[2]/div[2]/div/div[2]/div/div[2]/div/div/div[2]/div[1]/div[1]/a/span[1]']\n",
    "\n",
    "# Encuentra el botón del Jugador \n",
    "button = driver.find_element(By.XPATH,XPATH_array[0] )\n",
    "# Haz clic en el botón del Jugador \n",
    "button.click()\n",
    "\n",
    "time.sleep(5)\n",
    "\n",
    "obtener_informacion_jugador()\n",
    "\n",
    "driver.quit()"
   ]
  },
  {
   "cell_type": "code",
   "execution_count": null,
   "id": "d636df67-5d63-4f12-b0a9-6a17545c8d2f",
   "metadata": {},
   "outputs": [],
   "source": []
  },
  {
   "cell_type": "code",
   "execution_count": null,
   "id": "17180339-4373-4ab6-a8d7-bd8e51e4d05b",
   "metadata": {},
   "outputs": [],
   "source": []
  },
  {
   "cell_type": "code",
   "execution_count": null,
   "id": "ffbfaeae-51ca-4514-954c-298ab0542f31",
   "metadata": {},
   "outputs": [],
   "source": []
  },
  {
   "cell_type": "code",
   "execution_count": null,
   "id": "01a5ef77-53d1-48f1-90e7-4b7f80ad608f",
   "metadata": {},
   "outputs": [],
   "source": []
  }
 ],
 "metadata": {
  "kernelspec": {
   "display_name": "Python 3",
   "language": "python",
   "name": "python3"
  },
  "language_info": {
   "codemirror_mode": {
    "name": "ipython",
    "version": 3
   },
   "file_extension": ".py",
   "mimetype": "text/x-python",
   "name": "python",
   "nbconvert_exporter": "python",
   "pygments_lexer": "ipython3",
   "version": "3.8.8"
  }
 },
 "nbformat": 4,
 "nbformat_minor": 5
}

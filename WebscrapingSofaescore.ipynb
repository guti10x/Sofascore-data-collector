{
 "cells": [
  {
   "cell_type": "code",
   "execution_count": 68,
   "id": "f8ea3cff-da13-4d58-bc7c-33afc9e5e6af",
   "metadata": {},
   "outputs": [],
   "source": [
    "from selenium import webdriver\n",
    "from selenium.webdriver.common.by import By\n",
    "import requests\n",
    "from bs4 import BeautifulSoup\n",
    "import time"
   ]
  },
  {
   "cell_type": "code",
   "execution_count": 85,
   "id": "5e4049b3-7f73-476c-be3a-45b37277b8e0",
   "metadata": {
    "tags": []
   },
   "outputs": [
    {
     "name": "stdout",
     "output_type": "stream",
     "text": [
      "Minutes played\n",
      "90'\n",
      "Saves\n",
      "3\n"
     ]
    }
   ],
   "source": [
    "# Crea una instancia del controlador del navegador\n",
    "driver = webdriver.Chrome()\n",
    "\n",
    "# Navega a la página web que deseas hacer scraping\n",
    "driver.get(\"https://www.sofascore.com/real-madrid-chelsea/NsEgb#11137259\")\n",
    "\n",
    "# Espera a que se cargue la página\n",
    "driver.implicitly_wait(10)\n",
    "\n",
    "# Encuentra el botón de \"Consentir\" por su atributo aria-label utilizando XPath\n",
    "button = driver.find_element(By.XPATH, '//button[@aria-label=\"Consentir\"]')\n",
    "\n",
    "# Haz clic en el botón\n",
    "button.click()\n",
    "\n",
    "# Encuentra el botón de \"Consentir\" por su atributo aria-label utilizando XPath\n",
    "button = driver.find_element(By.XPATH, '//*[@id=\"__next\"]/main/div[2]/div[2]/div[1]/div[2]/div[2]/div/div[2]/div/div[2]/div/div/div[2]/div[1]/div[1]/a/span[1]')\n",
    "\n",
    "# Haz clic en el botón\n",
    "button.click()\n",
    "\n",
    "time.sleep(3)\n",
    "\n",
    "minPlayed=driver.find_element(By.XPATH,'//*[@id=\"__next\"]/main/div[3]/div/div/div/div[2]/div[1]/div/div[3]/div[3]/div/div/div/div')\n",
    "print(minPlayed.text)\n",
    "\n",
    "minutes=driver.find_element(By.XPATH,'//*[@id=\"__next\"]/main/div[3]/div/div/div/div[2]/div[1]/div/div[3]/div[3]/div/div/div/span')\n",
    "print(minutes.text)\n",
    "\n",
    "saves=driver.find_element(By.XPATH,'//*[@id=\"__next\"]/main/div[3]/div/div/div/div[2]/div[1]/div/div[3]/div[4]/div/div[1]/div/div')\n",
    "print(saves.text)\n",
    "\n",
    "minutes=driver.find_element(By.XPATH,'//*[@id=\"__next\"]/main/div[3]/div/div/div/div[2]/div[1]/div/div[3]/div[4]/div/div[1]/div/span')\n",
    "print(minutes.text)\n",
    "\n",
    "\n",
    "\n",
    "# Cierra el navegador controlado por Selenium\n",
    "driver.quit()\n"
   ]
  },
  {
   "cell_type": "code",
   "execution_count": null,
   "id": "74975b25-07b9-4d64-a577-ba1105a57de0",
   "metadata": {},
   "outputs": [],
   "source": [
    "\n"
   ]
  },
  {
   "cell_type": "code",
   "execution_count": null,
   "id": "9c518421-7314-4679-9b4d-8cec18019429",
   "metadata": {},
   "outputs": [],
   "source": []
  },
  {
   "cell_type": "code",
   "execution_count": null,
   "id": "17180339-4373-4ab6-a8d7-bd8e51e4d05b",
   "metadata": {},
   "outputs": [],
   "source": []
  },
  {
   "cell_type": "code",
   "execution_count": null,
   "id": "ffbfaeae-51ca-4514-954c-298ab0542f31",
   "metadata": {},
   "outputs": [],
   "source": [
    "# Especifíca la ruta y el nombre del archivo donde deseas guardar el HTML\n",
    "archivo_html = \"mi_archivo.html\"  # Reemplaza con la ubicación y nombre de tu elección\n",
    "\n",
    "# Abre el archivo en modo escritura y guarda el HTML en él\n",
    "with open(archivo_html, \"w\", encoding=\"utf-8\") as archivo:\n",
    "    archivo.write(html)"
   ]
  }
 ],
 "metadata": {
  "kernelspec": {
   "display_name": "Python 3",
   "language": "python",
   "name": "python3"
  },
  "language_info": {
   "codemirror_mode": {
    "name": "ipython",
    "version": 3
   },
   "file_extension": ".py",
   "mimetype": "text/x-python",
   "name": "python",
   "nbconvert_exporter": "python",
   "pygments_lexer": "ipython3",
   "version": "3.8.8"
  }
 },
 "nbformat": 4,
 "nbformat_minor": 5
}

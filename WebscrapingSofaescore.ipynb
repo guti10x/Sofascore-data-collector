{
 "cells": [
  {
   "cell_type": "code",
   "execution_count": 22,
   "id": "5e4049b3-7f73-476c-be3a-45b37277b8e0",
   "metadata": {},
   "outputs": [],
   "source": [
    "from selenium import webdriver\n",
    "from selenium.webdriver.common.by import By\n",
    "\n",
    "# Crea una instancia del controlador del navegador\n",
    "driver = webdriver.Chrome()\n",
    "\n",
    "# Navega a la página web que deseas hacer scraping\n",
    "driver.get(\"https://www.sofascore.com/real-madrid-chelsea/NsEgb#11137259\")\n",
    "\n",
    "# Espera a que se cargue la página\n",
    "driver.implicitly_wait(10)\n",
    "\n",
    "# Encuentra el botón de \"Consentir\" por su atributo aria-label utilizando XPath\n",
    "button = driver.find_element(By.XPATH, '//button[@aria-label=\"Consentir\"]')\n",
    "\n",
    "# Haz clic en el botón\n",
    "button.click()"
   ]
  },
  {
   "cell_type": "code",
   "execution_count": null,
   "id": "f8ea3cff-da13-4d58-bc7c-33afc9e5e6af",
   "metadata": {},
   "outputs": [],
   "source": [
    "<button class=\"fc-button fc-cta-consent fc-primary-button\" role=\"button\" aria-label=\"Consentir\" tabindex=\"0\">"
   ]
  }
 ],
 "metadata": {
  "kernelspec": {
   "display_name": "Python 3",
   "language": "python",
   "name": "python3"
  },
  "language_info": {
   "codemirror_mode": {
    "name": "ipython",
    "version": 3
   },
   "file_extension": ".py",
   "mimetype": "text/x-python",
   "name": "python",
   "nbconvert_exporter": "python",
   "pygments_lexer": "ipython3",
   "version": "3.8.8"
  }
 },
 "nbformat": 4,
 "nbformat_minor": 5
}

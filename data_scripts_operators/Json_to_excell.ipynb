{
 "cells": [
  {
   "cell_type": "markdown",
   "id": "dd031975-e774-4749-bb67-4542c4d246e5",
   "metadata": {},
   "source": [
    "# JSON ----------> XLXS"
   ]
  },
  {
   "cell_type": "code",
   "execution_count": 2,
   "id": "b1f08d84-9207-4cfb-8f9d-81b3c86bb910",
   "metadata": {},
   "outputs": [],
   "source": [
    "import pandas as pd\n",
    "import json"
   ]
  },
  {
   "cell_type": "code",
   "execution_count": 3,
   "id": "57f4c0f8-8ee4-4761-be35-fd7c3575785f",
   "metadata": {},
   "outputs": [
    {
     "name": "stdout",
     "output_type": "stream",
     "text": [
      "Done\n"
     ]
    }
   ],
   "source": [
    "partido=\"performance_jugadores_partido_Betis_Mallorca\"\n",
    "\n",
    "with open(f'../performance_jugadores_por_partidos/jornada_12/json/{partido}.json', \"r\") as file:\n",
    "    data = json.load(file)\n",
    "\n",
    "# Crear un DataFrame vacío\n",
    "df = pd.DataFrame()\n",
    "\n",
    "# Iterar sobre los elementos del JSON y agregarlos al DataFrame\n",
    "for jugador, estadisticas in data.items():\n",
    "    df = pd.concat([df, pd.DataFrame([[jugador, estadisticas[\"puntuacion\"]] + [stat[key] for stat in estadisticas[\"estadisticas\"] for key in stat.keys()]], columns=[\"Nombre\", \"Puntuación\"] + [key for stat in estadisticas[\"estadisticas\"] for key in stat.keys()])], ignore_index=True)\n",
    "\n",
    "# Guardar el DataFrame en un archivo Excel\n",
    "df.to_excel(f'../performance_jugadores_por_partidos/jornada_12/xlsx/{partido}.xlsx', index=False)\n",
    "\n",
    "print(\"Done\")"
   ]
  },
  {
   "cell_type": "code",
   "execution_count": null,
   "id": "11445513-35c4-4108-8bb3-50f297217fa2",
   "metadata": {},
   "outputs": [],
   "source": []
  }
 ],
 "metadata": {
  "kernelspec": {
   "display_name": "Python 3",
   "language": "python",
   "name": "python3"
  },
  "language_info": {
   "codemirror_mode": {
    "name": "ipython",
    "version": 3
   },
   "file_extension": ".py",
   "mimetype": "text/x-python",
   "name": "python",
   "nbconvert_exporter": "python",
   "pygments_lexer": "ipython3",
   "version": "3.8.8"
  }
 },
 "nbformat": 4,
 "nbformat_minor": 5
}

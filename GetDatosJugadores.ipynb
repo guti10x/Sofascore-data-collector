{
 "cells": [
  {
   "cell_type": "markdown",
   "id": "e6dfabfd-db8b-4462-a871-21af5386bd82",
   "metadata": {},
   "source": [
    "### GET información de los jugadores\n",
    "##### Obtenemos el id del equipo en la Api de sofaescore"
   ]
  },
  {
   "cell_type": "code",
   "execution_count": 38,
   "id": "d278fdd2-aa9c-472c-8a9f-4d92586ff3b7",
   "metadata": {},
   "outputs": [
    {
     "name": "stdout",
     "output_type": "stream",
     "text": [
      "Real Madrid: 2829\n",
      "Barcelona: 2817\n",
      "Atlético de Madrid: 77879\n",
      "Valencia: 2828\n",
      "Sevilla: 2833\n",
      "Villarreal: 2819\n",
      "Real Sociedad: 2824\n",
      "Real Betis: 2816\n",
      "Athletic Club: 2825\n",
      "Celta Vigo: 2821\n",
      "Almeria: 2858\n",
      "Getafe: 2859\n",
      "Mallorca: 2826\n",
      "Girona: 24264\n",
      "Granada: 33779\n",
      "Cadiz: 4488\n",
      "Alavés: 2885\n",
      "Rayo Vallecano: 2818\n",
      "Osasuna: 2820\n",
      "Las Palmas: 6577\n"
     ]
    }
   ],
   "source": [
    "import requests\n",
    "import json\n",
    "\n",
    "url = \"https://sofascore.p.rapidapi.com/teams/search\"\n",
    "headers = {\n",
    "    \"X-RapidAPI-Key\": \"d3b7b894admsh364e6ad10ed44ecp15f17ajsn0c72275d03a3\",\n",
    "    \"X-RapidAPI-Host\": \"sofascore.p.rapidapi.com\"\n",
    "}\n",
    "\n",
    "equipos = [\"Real Madrid\", \"Barcelona\", \"Atlético de Madrid\", \"Valencia\", \"Sevilla\", \"Villarreal\", \"Real Sociedad\", \"Real Betis\", \"Athletic Club\", \"Celta Vigo\", \"Almeria\", \"Getafe\", \"Mallorca\", \"Girona\", \"Granada\", \"Cadiz\", \"Alavés\", \"Rayo Vallecano\", \"Osasuna\", \"Las Palmas\"\n",
    "]\n",
    "\n",
    "ids_equipos = {}\n",
    "\n",
    "for equipo in equipos:\n",
    "    response = requests.get(url, headers=headers, params={\"name\": equipo})\n",
    "    data = response.json()\n",
    "    equipo_id = data['teams'][0]['id']\n",
    "    ids_equipos[equipo] = equipo_id\n",
    "    print(f\"{equipo}: {equipo_id}\")"
   ]
  },
  {
   "cell_type": "markdown",
   "id": "6bba09d1-b922-4cd1-8d42-5dc4b6523fb9",
   "metadata": {},
   "source": [
    "### Obtener plantillas de cada equipo"
   ]
  },
  {
   "cell_type": "code",
   "execution_count": 43,
   "id": "8957c5ad-5556-4b34-b8cf-b9ba3b4b8e0c",
   "metadata": {},
   "outputs": [
    {
     "name": "stdout",
     "output_type": "stream",
     "text": [
      "Archivo '2829jugadores.json' guardado en la carpeta 'jugadores'.\n",
      "Archivo '2817jugadores.json' guardado en la carpeta 'jugadores'.\n",
      "Archivo '77879jugadores.json' guardado en la carpeta 'jugadores'.\n",
      "Archivo '2828jugadores.json' guardado en la carpeta 'jugadores'.\n",
      "Archivo '2833jugadores.json' guardado en la carpeta 'jugadores'.\n",
      "Archivo '2819jugadores.json' guardado en la carpeta 'jugadores'.\n",
      "Archivo '2824jugadores.json' guardado en la carpeta 'jugadores'.\n",
      "Archivo '2816jugadores.json' guardado en la carpeta 'jugadores'.\n",
      "Archivo '2825jugadores.json' guardado en la carpeta 'jugadores'.\n",
      "Archivo '2821jugadores.json' guardado en la carpeta 'jugadores'.\n",
      "Archivo '2858jugadores.json' guardado en la carpeta 'jugadores'.\n",
      "Archivo '2859jugadores.json' guardado en la carpeta 'jugadores'.\n",
      "Archivo '2826jugadores.json' guardado en la carpeta 'jugadores'.\n",
      "Archivo '24264jugadores.json' guardado en la carpeta 'jugadores'.\n",
      "Archivo '33779jugadores.json' guardado en la carpeta 'jugadores'.\n",
      "Archivo '4488jugadores.json' guardado en la carpeta 'jugadores'.\n",
      "Archivo '2885jugadores.json' guardado en la carpeta 'jugadores'.\n",
      "Archivo '2818jugadores.json' guardado en la carpeta 'jugadores'.\n",
      "Archivo '2820jugadores.json' guardado en la carpeta 'jugadores'.\n",
      "Archivo '6577jugadores.json' guardado en la carpeta 'jugadores'.\n"
     ]
    }
   ],
   "source": [
    "import json\n",
    "import requests\n",
    "import os\n",
    "\n",
    "url = \"https://sofascore.p.rapidapi.com/teams/get-squad\"\n",
    "\n",
    "consultas = [{\"teamId\": str(equipo_id)} for equipo_id in ids_equipos.values()]\n",
    "\n",
    "cabeceras = {\n",
    "    \"X-RapidAPI-Key\": \"d3b7b894admsh364e6ad10ed44ecp15f17ajsn0c72275d03a3\",\n",
    "    \"X-RapidAPI-Host\": \"sofascore.p.rapidapi.com\"\n",
    "}\n",
    "\n",
    "carpeta = \"jugadores\"\n",
    "ruta_carpeta = os.path.join(os.getcwd(), carpeta)\n",
    "\n",
    "# Verifica si la carpeta no existe y luego créala\n",
    "if not os.path.exists(ruta_carpeta):\n",
    "    os.makedirs(ruta_carpeta)\n",
    "\n",
    "# Itera a través de cada consulta y guarda los datos en archivos JSON respectivos\n",
    "for i, consulta in enumerate(consultas):\n",
    "    respuesta = requests.get(url, headers=cabeceras, params=consulta)\n",
    "    datos = respuesta.json()\n",
    "\n",
    "    # Especifica el nombre de archivo modificado dentro de la carpeta \"jugadores\" para cada equipo\n",
    "    nombre_archivo = f\"{list(consultas[i].values())[0]}jugadores.json\"\n",
    "    ruta_archivo = os.path.join(ruta_carpeta, nombre_archivo)\n",
    "\n",
    "    with open(ruta_archivo, \"w\") as archivo:\n",
    "        json.dump(datos, archivo)\n",
    "\n",
    "    print(f\"Archivo '{nombre_archivo}' guardado en la carpeta '{carpeta}'.\")\n"
   ]
  }
 ],
 "metadata": {
  "kernelspec": {
   "display_name": "Python 3",
   "language": "python",
   "name": "python3"
  },
  "language_info": {
   "codemirror_mode": {
    "name": "ipython",
    "version": 3
   },
   "file_extension": ".py",
   "mimetype": "text/x-python",
   "name": "python",
   "nbconvert_exporter": "python",
   "pygments_lexer": "ipython3",
   "version": "3.8.8"
  }
 },
 "nbformat": 4,
 "nbformat_minor": 5
}

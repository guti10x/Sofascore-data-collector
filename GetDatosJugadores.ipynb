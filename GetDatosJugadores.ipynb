{
 "cells": [
  {
   "cell_type": "markdown",
   "id": "05bb68e2-4183-4490-92b5-50f2e1a695c7",
   "metadata": {},
   "source": [
    "# GET información de los jugadores"
   ]
  },
  {
   "cell_type": "code",
   "execution_count": 1,
   "id": "caef0895-dd8d-440b-9dd2-289c026e542d",
   "metadata": {},
   "outputs": [],
   "source": [
    "import requests\n",
    "import json\n",
    "import os\n",
    "\n",
    "headers = {\n",
    "    \"X-RapidAPI-Key\": \"ff1445247amshc1e1716dd1c0de1p1a1f0ejsnd1bcc39c4c98\",\n",
    "    \"X-RapidAPI-Host\": \"sofascore.p.rapidapi.com\"\n",
    "}"
   ]
  },
  {
   "cell_type": "markdown",
   "id": "e6dfabfd-db8b-4462-a871-21af5386bd82",
   "metadata": {},
   "source": [
    "### Obtenemos id de cada equipo en la Api de sofaescore"
   ]
  },
  {
   "cell_type": "code",
   "execution_count": 2,
   "id": "d278fdd2-aa9c-472c-8a9f-4d92586ff3b7",
   "metadata": {},
   "outputs": [
    {
     "name": "stdout",
     "output_type": "stream",
     "text": [
      "Real Madrid: 2829\n",
      "Barcelona: 2817\n",
      "Atlético de Madrid: 77879\n",
      "Valencia: 2828\n",
      "Sevilla: 2833\n",
      "Villarreal: 2819\n",
      "Real Sociedad: 2824\n",
      "Real Betis: 2816\n",
      "Athletic Club: 2825\n",
      "Celta Vigo: 2821\n",
      "Almeria: 2858\n",
      "Getafe: 2859\n",
      "Mallorca: 2826\n",
      "Girona: 24264\n",
      "Granada: 33779\n",
      "Cadiz: 4488\n",
      "Alavés: 2885\n",
      "Rayo Vallecano: 2818\n",
      "Osasuna: 2820\n",
      "Las Palmas: 6577\n",
      "Equipos IDs: {'Real Madrid': 2829, 'Barcelona': 2817, 'Atlético de Madrid': 77879, 'Valencia': 2828, 'Sevilla': 2833, 'Villarreal': 2819, 'Real Sociedad': 2824, 'Real Betis': 2816, 'Athletic Club': 2825, 'Celta Vigo': 2821, 'Almeria': 2858, 'Getafe': 2859, 'Mallorca': 2826, 'Girona': 24264, 'Granada': 33779, 'Cadiz': 4488, 'Alavés': 2885, 'Rayo Vallecano': 2818, 'Osasuna': 2820, 'Las Palmas': 6577}\n"
     ]
    }
   ],
   "source": [
    "url = \"https://sofascore.p.rapidapi.com/teams/search\"\n",
    "\n",
    "equipos = [\"Real Madrid\", \"Barcelona\", \"Atlético de Madrid\", \"Valencia\", \"Sevilla\", \"Villarreal\", \"Real Sociedad\", \"Real Betis\", \"Athletic Club\", \"Celta Vigo\", \"Almeria\", \"Getafe\", \"Mallorca\", \"Girona\", \"Granada\", \"Cadiz\", \"Alavés\", \"Rayo Vallecano\", \"Osasuna\", \"Las Palmas\"]\n",
    "\n",
    "ids_equipos = {}\n",
    "\n",
    "for equipo in equipos:\n",
    "    response = requests.get(url, headers=headers, params={\"name\": equipo})\n",
    "    data = response.json()\n",
    "    equipo_id = data['teams'][0]['id']\n",
    "    ids_equipos[equipo] = equipo_id\n",
    "    print(f\"{equipo}: {equipo_id}\")\n",
    "print(\"Equipos IDs:\", ids_equipos)\n"
   ]
  },
  {
   "cell_type": "code",
   "execution_count": null,
   "id": "9ea3af6f-bdf1-476f-88d7-aa63f40d4789",
   "metadata": {},
   "outputs": [],
   "source": []
  },
  {
   "cell_type": "markdown",
   "id": "80ad1a9c-6456-40d6-82ae-5f5b38251fb2",
   "metadata": {},
   "source": [
    "### Obtenemos id de LaLiga en la Api de sofaescore"
   ]
  },
  {
   "cell_type": "code",
   "execution_count": 9,
   "id": "3ab3427c-fc5a-4338-b2c0-a25837648b42",
   "metadata": {},
   "outputs": [
    {
     "name": "stdout",
     "output_type": "stream",
     "text": [
      "ID LaLiga: 8\n"
     ]
    }
   ],
   "source": [
    "url = \"https://sofascore.p.rapidapi.com/tournaments/search\"\n",
    "\n",
    "querystring = {\"name\": \"La Liga\"}\n",
    "\n",
    "id_liga=0\n",
    "\n",
    "response = requests.get(url, headers=headers, params=querystring)\n",
    "\n",
    "# Check if the request was successful\n",
    "if response.status_code == 200:\n",
    "    data = response.json()\n",
    "    id_liga = data[\"uniqueTournaments\"][0][\"id\"]\n",
    "    print(\"ID LaLiga:\", id_liga)\n",
    "else:\n",
    "    print(\"Failed data. Status code:\", response.status_code)"
   ]
  },
  {
   "cell_type": "markdown",
   "id": "9bddb69e-bd85-49e6-910b-6bdf6c5c0d11",
   "metadata": {},
   "source": [
    "### Obtenemos id de las temporadas de LaLiga en la Api de sofaescore"
   ]
  },
  {
   "cell_type": "code",
   "execution_count": 16,
   "id": "43d8cd9b-b048-41b9-8830-67fa92ecc7f8",
   "metadata": {},
   "outputs": [
    {
     "name": "stdout",
     "output_type": "stream",
     "text": [
      "Seasons IDs: [52376, 42409, 37223, 32501, 24127, 18020, 13662, 11906, 10495, 8578, 6559, 4959, 3502, 2896, 2252, 1587, 669, 102, 101, 100, 99, 70, 71, 72, 73, 74, 75, 25689, 25690, 25688, 25687]\n"
     ]
    }
   ],
   "source": [
    "url = \"https://sofascore.p.rapidapi.com/tournaments/get-seasons\"\n",
    "\n",
    "querystring = {\"tournamentId\": id_liga}\n",
    "\n",
    "response = requests.get(url, headers=headers, params=querystring)\n",
    "\n",
    "seasons_data = response.json().get('seasons', [])\n",
    "\n",
    "# Extracting season IDs and storing them in an array\n",
    "season_ids = [season['id'] for season in seasons_data]\n",
    "\n",
    "print(\"Seasons IDs:\", season_ids)\n",
    "\n"
   ]
  },
  {
   "cell_type": "markdown",
   "id": "6bba09d1-b922-4cd1-8d42-5dc4b6523fb9",
   "metadata": {},
   "source": [
    "### Obtener id de todos los jugadores de todos los equipos de LaLiga"
   ]
  },
  {
   "cell_type": "code",
   "execution_count": 31,
   "id": "8957c5ad-5556-4b34-b8cf-b9ba3b4b8e0c",
   "metadata": {
    "tags": []
   },
   "outputs": [
    {
     "name": "stdout",
     "output_type": "stream",
     "text": [
      "IDs de los jugadores: [868812, 910536, 69418, 15466, 991011, 26502, 831808, 1091116, 973887, 859025, 835485, 547838, 822519, 66492, 142622, 138572, 792073, 255239, 69404, 851271, 70988, 232422, 857574, 41789, 851671, 831005, 1402912, 855833, 1414933, 992587, 795222, 1103693, 45853, 1153270, 69416, 138892, 925097, 827212, 997035, 186795, 69408, 123976, 173883, 88625, 794949, 68296, 944901, 905810, 994110, 999606, 1385877, 1139592, 1440981, 1439033, 796887, 985611, 997955, 861622, 1023341, 1161894, 1082684, 1439032, 1126720, 1104113, 1017227, 97141, 905811, 1009088, 1116411, 1008732, 1010765, 1009096, 1126707, 824962, 1008828, 1009089, 1091841, 985241, 1009139, 1087822, 1495058, 1528741, 829296, 909119, 990232, 801211, 845693, 855830, 1122610, 826948, 790833, 998950, 966637, 1099482, 227922, 797306, 124737, 953097, 851282, 1144630, 996929, 151138, 1184317, 930997, 235386, 914744, 846470, 175753, 823631, 825754, 7635, 155702, 122702, 96370, 328145, 887581, 41837, 799054, 231776, 591750, 1010655, 10710, 578560, 1003007, 11869, 68332, 1006489, 840951, 941464, 928672, 1097719, 94527, 22209, 1192489, 146866, 309078, 867583, 1089108, 344129, 1177406, 984624, 39182, 910031, 138383, 16701, 40672, 153966, 843678, 1088565, 1518662, 1518664, 122810, 873189, 3041, 826195, 229740, 868715, 797290, 53739, 980732, 1518663, 26937, 962053, 190159, 823622, 754710, 1063235, 966862, 782396, 353252, 880218, 1066045, 966837, 592010, 845385, 980410, 1139409, 1010383, 1425058, 353250, 366592, 362014, 787751, 838159, 785468, 966441, 934383, 1064009, 791773, 1094782, 1562871, 1514119, 1011375, 785989, 123223, 1163937, 103417, 337671, 609752, 1035995, 137978, 14942, 345195, 847128, 1493689, 1031421, 1137814, 936234, 188365, 1064218, 158241, 111803, 855829, 99519, 973838, 893062, 13249, 253809, 929981, 783374, 605672, 355072, 1391487, 1085400, 82474, 966801, 71707, 592012, 4581, 359742, 298920, 96365, 910975, 1391375, 1012409, 1429847, 84531, 807648, 52663, 910978, 959872, 801837, 1009662, 797291, 1014412, 1516035, 19356, 894863, 794950, 876599, 1126779, 1014118, 352376, 595576, 557008, 835484, 846492, 997221, 1120669, 859773, 796320, 363774, 892521, 984789, 360718, 1069703, 795257, 47339, 32023, 848980, 914213, 1002556, 909966, 873630, 252857, 346516, 1100957, 1493213, 997203, 914014, 982327, 848926, 789886, 910023, 1493216, 818406, 1105331, 827942, 913455, 914522, 848080, 1094106, 845119, 964174, 1561756, 845797, 139925, 69379, 1514900, 336655, 604954, 169549, 966679, 942116, 794937, 331449, 794948, 385888, 811629, 351140, 1511955, 1523948, 307702, 805137, 576276, 108736, 36982, 350560, 1015240, 980578, 311462, 949707, 604258, 863276, 1513631, 1513630, 310874, 790179, 845168, 146852, 1162309, 110783, 988351, 255999, 349526, 826004, 949722, 1496078, 788216, 98440, 300522, 590404, 828239, 807116, 913695, 842164, 44577, 1513896, 1198968, 188107, 791046, 19013, 1168242, 1172917, 1046795, 798820, 32048, 1518119, 1082981, 319735, 839585, 796047, 1002813, 218616, 1106573, 973699, 129472, 813523, 1031566, 1513648, 1513673, 1518147, 876214, 44864, 908716, 1084081, 135116, 139919, 962378, 129861, 1391615, 164343, 991960, 83708, 791769, 895533, 293115, 814385, 40965, 790817, 52125, 1085081, 1084730, 914765, 326471, 844179, 316406, 861317, 857227, 355048, 344205, 986726, 914178, 144606, 934351, 141655, 1134758, 1394458, 788197, 31828, 805245, 252863, 27838, 212074, 141945, 914819, 941405, 316170, 944165, 846446, 259339, 148588, 329563, 352486, 376382, 141997, 927408, 855831, 1031658, 1136896, 349794, 260097, 921621, 800403, 355046, 347450, 1514914, 341097, 138390, 756344, 1099352, 84972, 1503836, 1099175, 855832, 900433, 1082968, 891931, 788141, 873717, 1010409, 1516789, 1524112, 1101232, 984623, 253415, 866810, 896073, 966836, 799195, 101156, 945404, 369004, 990659, 1561798, 1120373, 1518514, 25682, 138387, 910024, 932764, 913679, 899982, 345111, 21949, 900003, 900008, 588566, 124950, 857178, 608370, 1391366, 1392573, 542634, 88528, 846147, 152446, 41013, 965031, 1010421, 947201, 1119678, 97951, 965832, 1410144, 1086254, 37318, 789381, 997280, 591132, 1399700, 149370, 985329, 260031, 187313, 824130, 976141, 94539, 1119586, 1084381, 344847, 591136, 900792, 255973, 844752, 897902, 330675, 910267, 944225, 294377, 99516, 1473131, 1512109, 1512110, 350170, 869131, 960401, 188407, 841854, 1086286, 1012444, 129451, 933426, 552668, 964985, 925220, 353154, 362032, 868223, 894477, 978150, 979146, 377206, 986245, 914848, 964466, 868227, 813645, 1391879, 1521640, 964983, 368922, 1562385]\n"
     ]
    }
   ],
   "source": [
    "url = \"https://sofascore.p.rapidapi.com/teams/get-squad\"\n",
    "\n",
    "consultas = [{\"teamId\": str(equipo_id)} for equipo_id in ids_equipos.values()]\n",
    "\n",
    "ids_jugadores = []\n",
    "\n",
    "\n",
    "# Itera a través de cada consulta y guarda los datos en archivos JSON respectivos\n",
    "for i, consulta in enumerate(consultas):\n",
    "    respuesta = requests.get(url, headers=headers, params=consulta)\n",
    "    datos = respuesta.json()\n",
    "\n",
    " \n",
    "    jugadores = datos[\"players\"]\n",
    "    numJugadores = len(jugadores)\n",
    "\n",
    "    \n",
    "  \n",
    "    for jugador in jugadores:\n",
    "        jugador_id = jugador[\"player\"][\"id\"]\n",
    "        ids_jugadores.append(jugador_id)\n",
    "       \n",
    "    \n",
    "# Imprimir los IDs almacenados en el array\n",
    "print(\"IDs de los jugadores:\", ids_jugadores)"
   ]
  },
  {
   "cell_type": "markdown",
   "id": "d306c313-246c-48ca-8528-3a45acbcb6cf",
   "metadata": {},
   "source": [
    "# Generación de archivos"
   ]
  },
  {
   "cell_type": "markdown",
   "id": "731a80d9-d2c7-4f0f-83d5-ffcc160387f6",
   "metadata": {},
   "source": [
    "### Archivos con las plantillas de cada equipo"
   ]
  },
  {
   "cell_type": "code",
   "execution_count": 34,
   "id": "cfa07bcd-529b-4a62-acc8-44d19a2c8315",
   "metadata": {},
   "outputs": [
    {
     "name": "stdout",
     "output_type": "stream",
     "text": [
      "Archivo '2829jugadores.json' guardado en la carpeta 'jugadores'.\n",
      "Archivo '2817jugadores.json' guardado en la carpeta 'jugadores'.\n",
      "Archivo '77879jugadores.json' guardado en la carpeta 'jugadores'.\n",
      "Archivo '2828jugadores.json' guardado en la carpeta 'jugadores'.\n",
      "Archivo '2833jugadores.json' guardado en la carpeta 'jugadores'.\n",
      "Archivo '2819jugadores.json' guardado en la carpeta 'jugadores'.\n",
      "Archivo '2824jugadores.json' guardado en la carpeta 'jugadores'.\n",
      "Archivo '2816jugadores.json' guardado en la carpeta 'jugadores'.\n",
      "Archivo '2825jugadores.json' guardado en la carpeta 'jugadores'.\n",
      "Archivo '2821jugadores.json' guardado en la carpeta 'jugadores'.\n",
      "Archivo '2858jugadores.json' guardado en la carpeta 'jugadores'.\n",
      "Archivo '2859jugadores.json' guardado en la carpeta 'jugadores'.\n",
      "Archivo '2826jugadores.json' guardado en la carpeta 'jugadores'.\n",
      "Archivo '24264jugadores.json' guardado en la carpeta 'jugadores'.\n",
      "Archivo '33779jugadores.json' guardado en la carpeta 'jugadores'.\n",
      "Archivo '4488jugadores.json' guardado en la carpeta 'jugadores'.\n",
      "Archivo '2885jugadores.json' guardado en la carpeta 'jugadores'.\n",
      "Archivo '2818jugadores.json' guardado en la carpeta 'jugadores'.\n",
      "Archivo '2820jugadores.json' guardado en la carpeta 'jugadores'.\n",
      "Archivo '6577jugadores.json' guardado en la carpeta 'jugadores'.\n"
     ]
    }
   ],
   "source": [
    "url = \"https://sofascore.p.rapidapi.com/teams/get-squad\"\n",
    "\n",
    "consultas = [{\"teamId\": str(equipo_id)} for equipo_id in ids_equipos.values()]\n",
    "\n",
    "carpeta = \"plantillas por equipo\"\n",
    "ruta_carpeta = os.path.join(os.getcwd(), carpeta)\n",
    "\n",
    "# Verifica si la carpeta no existe y luego créala\n",
    "if not os.path.exists(ruta_carpeta):\n",
    "    os.makedirs(ruta_carpeta)\n",
    "\n",
    "# Itera a través de cada consulta y guarda los datos en archivos JSON respectivos\n",
    "for i, consulta in enumerate(consultas):\n",
    "    respuesta = requests.get(url, headers=cabeceras, params=consulta)\n",
    "    datos = respuesta.json()\n",
    "\n",
    "    # Especifica el nombre de archivo \n",
    "    nombre_archivo = f\"{list(consultas[i].values())[0]}jugadores.json\"\n",
    "    ruta_archivo = os.path.join(ruta_carpeta, nombre_archivo)\n",
    "\n",
    "    with open(ruta_archivo, \"w\") as archivo:\n",
    "        json.dump(datos, archivo)\n",
    "\n",
    "    print(f\"Archivo '{nombre_archivo}' guardado en la carpeta '{carpeta}'.\")\n"
   ]
  },
  {
   "cell_type": "markdown",
   "id": "63bd774c-864f-4007-9fa3-7a8a6b0bcdea",
   "metadata": {},
   "source": [
    "### Archivo con todas las estadísticas de todos los jugadores de la LaLiga"
   ]
  },
  {
   "cell_type": "code",
   "execution_count": 30,
   "id": "3391762d-bf02-4bf1-bab1-2e9832dd6071",
   "metadata": {},
   "outputs": [],
   "source": [
    "season_ids=[52376, 42409, 37223, 32501, 24127, 18020, 13662, 11906, 10495, 8578, 6559, 4959, 3502, 2896, 2252, 1587, 669, 102, 101, 100, 99, 70, 71, 72, 73, 74, 75, 25689, 25690, 25688, 25687]\n",
    "id_liga=8\n",
    "ids_jugadores= [868812,910536,69418, 15466, 991011]\n",
    "#ids_jugadores= [868812, 910536, 69418, 15466, 991011, 26502, 831808, 1091116, 973887, 859025, 835485, 547838, 822519, 66492, 142622, 138572, 792073, 255239, 69404, 851271, 70988, 232422, 857574, 41789, 851671, 831005, 1402912, 855833, 1414933, 992587, 795222, 1103693, 45853, 1153270, 69416, 138892, 925097, 827212, 997035, 186795, 69408, 123976, 173883, 88625, 794949, 68296, 944901, 905810, 994110, 999606, 1385877, 1139592, 1440981, 1439033, 796887, 985611, 997955, 861622, 1023341, 1161894, 1082684, 1439032, 1126720, 1104113, 1017227, 97141, 905811, 1009088, 1116411, 1008732, 1010765, 1009096, 1126707, 824962, 1008828, 1009089, 1091841, 985241, 1009139, 1087822, 1495058, 1528741, 829296, 909119, 990232, 801211, 845693, 855830, 1122610, 826948, 790833, 998950, 966637, 1099482, 227922, 797306, 124737, 953097, 851282, 1144630, 996929, 151138, 1184317, 930997, 235386, 914744, 846470, 175753, 823631, 825754, 7635, 155702, 122702, 96370, 328145, 887581, 41837, 799054, 231776, 591750, 1010655, 10710, 578560, 1003007, 11869, 68332, 1006489, 840951, 941464, 928672, 1097719, 94527, 22209, 1192489, 146866, 309078, 867583, 1089108, 344129, 1177406, 984624, 39182, 910031, 138383, 16701, 40672, 153966, 843678, 1088565, 1518662, 1518664, 122810, 873189, 3041, 826195, 229740, 868715, 797290, 53739, 980732, 1518663, 26937, 962053, 190159, 823622, 754710, 1063235, 966862, 782396, 353252, 880218, 1066045, 966837, 592010, 845385, 980410, 1139409, 1010383, 1425058, 353250, 366592, 362014, 787751, 838159, 785468, 966441, 934383, 1064009, 791773, 1094782, 1562871, 1514119, 1011375, 785989, 123223, 1163937, 103417, 337671, 609752, 1035995, 137978, 14942, 345195, 847128, 1493689, 1031421, 1137814, 936234, 188365, 1064218, 158241, 111803, 855829, 99519, 973838, 893062, 13249, 253809, 929981, 783374, 605672, 355072, 1391487, 1085400, 82474, 966801, 71707, 592012, 4581, 359742, 298920, 96365, 910975, 1391375, 1012409, 1429847, 84531, 807648, 52663, 910978, 959872, 801837, 1009662, 797291, 1014412, 1516035, 19356, 894863, 794950, 876599, 1126779, 1014118, 352376, 595576, 557008, 835484, 846492, 997221, 1120669, 859773, 796320, 363774, 892521, 984789, 360718, 1069703, 795257, 47339, 32023, 848980, 914213, 1002556, 909966, 873630, 252857, 346516, 1100957, 1493213, 997203, 914014, 982327, 848926, 789886, 910023, 1493216, 818406, 1105331, 827942, 913455, 914522, 848080, 1094106, 845119, 964174, 1561756, 845797, 139925, 69379, 1514900, 336655, 604954, 169549, 966679, 942116, 794937, 331449, 794948, 385888, 811629, 351140, 1511955, 1523948, 307702, 805137, 576276, 108736, 36982, 350560, 1015240, 980578, 311462, 949707, 604258, 863276, 1513631, 1513630, 310874, 790179, 845168, 146852, 1162309, 110783, 988351, 255999, 349526, 826004, 949722, 1496078, 788216, 98440, 300522, 590404, 828239, 807116, 913695, 842164, 44577, 1513896, 1198968, 188107, 791046, 19013, 1168242, 1172917, 1046795, 798820, 32048, 1518119, 1082981, 319735, 839585, 796047, 1002813, 218616, 1106573, 973699, 129472, 813523, 1031566, 1513648, 1513673, 1518147, 876214, 44864, 908716, 1084081, 135116, 139919, 962378, 129861, 1391615, 164343, 991960, 83708, 791769, 895533, 293115, 814385, 40965, 790817, 52125, 1085081, 1084730, 914765, 326471, 844179, 316406, 861317, 857227, 355048, 344205, 986726, 914178, 144606, 934351, 141655, 1134758, 1394458, 788197, 31828, 805245, 252863, 27838, 212074, 141945, 914819, 941405, 316170, 944165, 846446, 259339, 148588, 329563, 352486, 376382, 141997, 927408, 855831, 1031658, 1136896, 349794, 260097, 921621, 800403, 355046, 347450, 1514914, 341097, 138390, 756344, 1099352, 84972, 1503836, 1099175, 855832, 900433, 1082968, 891931, 788141, 873717, 1010409, 1516789, 1524112, 1101232, 984623, 253415, 866810, 896073, 966836, 799195, 101156, 945404, 369004, 990659, 1561798, 1120373, 1518514, 25682, 138387, 910024, 932764, 913679, 899982, 345111, 21949, 900003, 900008, 588566, 124950, 857178, 608370, 1391366, 1392573, 542634, 88528, 846147, 152446, 41013, 965031, 1010421, 947201, 1119678, 97951, 965832, 1410144, 1086254, 37318, 789381, 997280, 591132, 1399700, 149370, 985329, 260031, 187313, 824130, 976141, 94539, 1119586, 1084381, 344847, 591136, 900792, 255973, 844752, 897902, 330675, 910267, 944225, 294377, 99516, 1473131, 1512109, 1512110, 350170, 869131, 960401, 188407, 841854, 1086286, 1012444, 129451, 933426, 552668, 964985, 925220, 353154, 362032, 868223, 894477, 978150, 979146, 377206, 986245, 914848, 964466, 868227, 813645, 1391879, 1521640, 964983, 368922, 1562385]"
   ]
  },
  {
   "cell_type": "code",
   "execution_count": 29,
   "id": "2fa4d201-7bab-4557-9f06-6823c7687fbb",
   "metadata": {},
   "outputs": [
    {
     "name": "stdout",
     "output_type": "stream",
     "text": [
      "868812\n",
      "52376\n",
      "8\n"
     ]
    }
   ],
   "source": [
    "print(ids_jugadores[0])\n",
    "print(season_ids[0])\n",
    "print(id_liga)"
   ]
  },
  {
   "cell_type": "code",
   "execution_count": 32,
   "id": "b14b8237-0934-473b-a716-c36bd1837c26",
   "metadata": {},
   "outputs": [
    {
     "name": "stdout",
     "output_type": "stream",
     "text": [
      "GET: {'playerId': 868812, 'tournamentId': 8, 'seasonId': 52376, 'type': 'overall'}\n",
      "GET: {'playerId': 910536, 'tournamentId': 8, 'seasonId': 52376, 'type': 'overall'}\n",
      "GET: {'playerId': 69418, 'tournamentId': 8, 'seasonId': 52376, 'type': 'overall'}\n",
      "GET: {'playerId': 15466, 'tournamentId': 8, 'seasonId': 52376, 'type': 'overall'}\n",
      "GET: {'playerId': 991011, 'tournamentId': 8, 'seasonId': 52376, 'type': 'overall'}\n",
      "Se ha guardado el archivo JSON: estadisticas_jugadores\\estadisticas_todos_jugadores.json\n"
     ]
    }
   ],
   "source": [
    "# Definir las variables para la consulta\n",
    "player_id = ids_jugadores[0]\n",
    "tournament_id = id_liga\n",
    "season_id = season_ids[0]\n",
    "stat_type = \"overall\"\n",
    "\n",
    "# URL de la API y endpoint\n",
    "url = \"https://sofascore.p.rapidapi.com/players/get-statistics\"\n",
    "\n",
    "# Crear la carpeta para almacenar las estadísticas de los jugadores\n",
    "carpeta = \"estadisticas_jugadores\"\n",
    "if not os.path.exists(carpeta):\n",
    "    os.makedirs(carpeta)\n",
    "\n",
    "# Lista para almacenar las estadísticas de todos los jugadores\n",
    "estadisticas_jugadores = []\n",
    "    \n",
    "for player_id in ids_jugadores:\n",
    "    # Crear la cadena de consulta con el ID de jugador actual\n",
    "    querystring = {\n",
    "        \"playerId\": player_id,\n",
    "        \"tournamentId\": tournament_id,\n",
    "        \"seasonId\": season_id,\n",
    "        \"type\": stat_type\n",
    "    }\n",
    "    \n",
    "    print(\"GET: \" + str(querystring))\n",
    "    \n",
    "    response = requests.get(url, headers=headers, params=querystring)\n",
    "\n",
    "    # Verificar si la solicitud fue exitosa\n",
    "    if response.status_code == 200:\n",
    "        # Obtener las estadísticas y agregarlas a la lista\n",
    "        estadisticas_jugador = response.json()\n",
    "        estadisticas_jugadores.append(estadisticas_jugador)\n",
    "\n",
    "# Guardar las estadísticas de todos los jugadores en un archivo JSON\n",
    "archivo_json = os.path.join(carpeta, \"estadisticas_todos_jugadores.json\")\n",
    "with open(archivo_json, 'w') as archivo:\n",
    "    json.dump(estadisticas_jugadores, archivo)\n",
    "\n",
    "print(f\"Se ha guardado el archivo JSON: {archivo_json}\")\n",
    " "
   ]
  },
  {
   "cell_type": "code",
   "execution_count": null,
   "id": "c6101a94-6738-477f-b043-774170b9595b",
   "metadata": {},
   "outputs": [],
   "source": []
  }
 ],
 "metadata": {
  "kernelspec": {
   "display_name": "Python 3",
   "language": "python",
   "name": "python3"
  },
  "language_info": {
   "codemirror_mode": {
    "name": "ipython",
    "version": 3
   },
   "file_extension": ".py",
   "mimetype": "text/x-python",
   "name": "python",
   "nbconvert_exporter": "python",
   "pygments_lexer": "ipython3",
   "version": "3.8.8"
  }
 },
 "nbformat": 4,
 "nbformat_minor": 5
}

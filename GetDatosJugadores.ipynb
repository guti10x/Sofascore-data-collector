{
 "cells": [
  {
   "cell_type": "markdown",
   "id": "05bb68e2-4183-4490-92b5-50f2e1a695c7",
   "metadata": {},
   "source": [
    "# GET información de los jugadores"
   ]
  },
  {
   "cell_type": "markdown",
   "id": "e6dfabfd-db8b-4462-a871-21af5386bd82",
   "metadata": {},
   "source": [
    "### Obtenemos id de cada equipo en la Api de sofaescore"
   ]
  },
  {
   "cell_type": "code",
   "execution_count": 32,
   "id": "d278fdd2-aa9c-472c-8a9f-4d92586ff3b7",
   "metadata": {},
   "outputs": [
    {
     "name": "stdout",
     "output_type": "stream",
     "text": [
      "Real Madrid: 2829\n",
      "Barcelona: 2817\n",
      "Atlético de Madrid: 77879\n",
      "Valencia: 2828\n",
      "Sevilla: 2833\n",
      "Villarreal: 2819\n",
      "Real Sociedad: 2824\n",
      "Real Betis: 2816\n",
      "Athletic Club: 2825\n",
      "Celta Vigo: 2821\n",
      "Almeria: 2858\n",
      "Getafe: 2859\n",
      "Mallorca: 2826\n",
      "Girona: 24264\n",
      "Granada: 33779\n",
      "Cadiz: 4488\n",
      "Alavés: 2885\n",
      "Rayo Vallecano: 2818\n",
      "Osasuna: 2820\n",
      "Las Palmas: 6577\n"
     ]
    }
   ],
   "source": [
    "import requests\n",
    "import json\n",
    "\n",
    "url = \"https://sofascore.p.rapidapi.com/teams/search\"\n",
    "headers = {\n",
    "    \"X-RapidAPI-Key\": \"d3b7b894admsh364e6ad10ed44ecp15f17ajsn0c72275d03a3\",\n",
    "    \"X-RapidAPI-Host\": \"sofascore.p.rapidapi.com\"\n",
    "}\n",
    "\n",
    "equipos = [\"Real Madrid\", \"Barcelona\", \"Atlético de Madrid\", \"Valencia\", \"Sevilla\", \"Villarreal\", \"Real Sociedad\", \"Real Betis\", \"Athletic Club\", \"Celta Vigo\", \"Almeria\", \"Getafe\", \"Mallorca\", \"Girona\", \"Granada\", \"Cadiz\", \"Alavés\", \"Rayo Vallecano\", \"Osasuna\", \"Las Palmas\"]\n",
    "\n",
    "ids_equipos = {}\n",
    "\n",
    "for equipo in equipos:\n",
    "    response = requests.get(url, headers=headers, params={\"name\": equipo})\n",
    "    data = response.json()\n",
    "    equipo_id = data['teams'][0]['id']\n",
    "    ids_equipos[equipo] = equipo_id\n",
    "    print(f\"{equipo}: {equipo_id}\")"
   ]
  },
  {
   "cell_type": "markdown",
   "id": "80ad1a9c-6456-40d6-82ae-5f5b38251fb2",
   "metadata": {},
   "source": [
    "### Obtenemos id de LaLiga en la Api de sofaescore"
   ]
  },
  {
   "cell_type": "code",
   "execution_count": 39,
   "id": "3ab3427c-fc5a-4338-b2c0-a25837648b42",
   "metadata": {},
   "outputs": [
    {
     "name": "stdout",
     "output_type": "stream",
     "text": [
      "ID of La Liga: 8\n"
     ]
    }
   ],
   "source": [
    "import requests\n",
    "\n",
    "url = \"https://sofascore.p.rapidapi.com/tournaments/search\"\n",
    "\n",
    "querystring = {\"name\": \"La Liga\"}\n",
    "\n",
    "headers = {\n",
    "    \"X-RapidAPI-Key\": \"d3b7b894admsh364e6ad10ed44ecp15f17ajsn0c72275d03a3\",\n",
    "    \"X-RapidAPI-Host\": \"sofascore.p.rapidapi.com\"\n",
    "}\n",
    "\n",
    "id_liga=0\n",
    "\n",
    "response = requests.get(url, headers=headers, params=querystring)\n",
    "\n",
    "# Check if the request was successful\n",
    "if response.status_code == 200:\n",
    "    data = response.json()\n",
    "    id_liga = data[\"uniqueTournaments\"][0][\"id\"]\n",
    "    print(\"ID of La Liga:\", id_liga)\n",
    "else:\n",
    "    print(\"Failed to retrieve data. Status code:\", response.status_code)\n"
   ]
  },
  {
   "cell_type": "markdown",
   "id": "9bddb69e-bd85-49e6-910b-6bdf6c5c0d11",
   "metadata": {},
   "source": [
    "### Obtenemos id de las temporadas de LaLiga en la Api de sofaescore"
   ]
  },
  {
   "cell_type": "code",
   "execution_count": 41,
   "id": "43d8cd9b-b048-41b9-8830-67fa92ecc7f8",
   "metadata": {},
   "outputs": [
    {
     "name": "stdout",
     "output_type": "stream",
     "text": [
      "{'seasons': [{'name': 'LaLiga 23/24', 'year': '23/24', 'editor': False, 'id': 52376}, {'name': 'LaLiga 22/23', 'year': '22/23', 'editor': False, 'seasonCoverageInfo': {}, 'id': 42409}, {'name': 'LaLiga 21/22', 'year': '21/22', 'editor': False, 'id': 37223}, {'name': 'LaLiga 20/21', 'year': '20/21', 'editor': False, 'id': 32501}, {'name': 'LaLiga 19/20', 'year': '19/20', 'editor': False, 'id': 24127}, {'name': 'LaLiga 18/19', 'year': '18/19', 'editor': False, 'id': 18020}, {'name': 'LaLiga 17/18', 'year': '17/18', 'editor': False, 'id': 13662}, {'name': 'LaLiga 16/17', 'year': '16/17', 'editor': False, 'id': 11906}, {'name': 'Primera Division 15/16', 'year': '15/16', 'editor': False, 'id': 10495}, {'name': 'Primera Division 14/15', 'year': '14/15', 'editor': False, 'id': 8578}, {'name': 'Primera Division 13/14', 'year': '13/14', 'editor': False, 'id': 6559}, {'name': 'Primera Division 12/13', 'year': '12/13', 'editor': False, 'id': 4959}, {'name': 'Primera Division 11/12', 'year': '11/12', 'editor': False, 'id': 3502}, {'name': 'Liga BBVA 10/11', 'year': '10/11', 'editor': False, 'id': 2896}, {'name': 'Liga BBVA 09/10', 'year': '09/10', 'editor': False, 'id': 2252}, {'name': 'Liga BBVA 08/09', 'year': '08/09', 'editor': False, 'id': 1587}, {'name': 'Primera Division 07/08', 'year': '07/08', 'editor': False, 'id': 669}, {'name': 'Primera Division 06/07', 'year': '06/07', 'editor': False, 'id': 102}, {'name': 'Primera Division 05/06', 'year': '05/06', 'editor': False, 'id': 101}, {'name': 'Primera Division 04/05', 'year': '04/05', 'editor': False, 'id': 100}, {'name': 'Primera Division 03/04', 'year': '03/04', 'editor': False, 'id': 99}, {'name': 'Primera Division 02/03', 'year': '02/03', 'editor': False, 'id': 70}, {'name': 'Primera Division 01/02', 'year': '01/02', 'editor': False, 'id': 71}, {'name': 'Primera Division 00/01', 'year': '00/01', 'editor': False, 'id': 72}, {'name': 'Primera Division 99/00', 'year': '99/00', 'editor': False, 'id': 73}, {'name': 'Primera Division 98/99', 'year': '98/99', 'editor': False, 'id': 74}, {'name': 'Primera Division 97/98', 'year': '97/98', 'editor': False, 'id': 75}, {'name': 'Primera Division 96/97', 'year': '96/97', 'editor': False, 'id': 25689}, {'name': 'Primera Division 95/96', 'year': '95/96', 'editor': False, 'id': 25690}, {'name': 'Primera Division 94/95', 'year': '94/95', 'editor': False, 'id': 25688}, {'name': 'Primera Division 93/94', 'year': '93/94', 'editor': False, 'id': 25687}]}\n"
     ]
    }
   ],
   "source": [
    "import requests\n",
    "\n",
    "url = \"https://sofascore.p.rapidapi.com/tournaments/get-seasons\"\n",
    "\n",
    "querystring = {\"tournamentId\": id_liga}\n",
    "\n",
    "headers = {\n",
    "    \"X-RapidAPI-Key\": \"d3b7b894admsh364e6ad10ed44ecp15f17ajsn0c72275d03a3\",\n",
    "    \"X-RapidAPI-Host\": \"sofascore.p.rapidapi.com\"\n",
    "}\n",
    "\n",
    "response = requests.get(url, headers=headers, params=querystring)\n",
    "\n",
    "print(response.json())"
   ]
  },
  {
   "cell_type": "markdown",
   "id": "731a80d9-d2c7-4f0f-83d5-ffcc160387f6",
   "metadata": {},
   "source": [
    "### Obtener plantillas de cada equipo"
   ]
  },
  {
   "cell_type": "code",
   "execution_count": 34,
   "id": "cfa07bcd-529b-4a62-acc8-44d19a2c8315",
   "metadata": {},
   "outputs": [
    {
     "name": "stdout",
     "output_type": "stream",
     "text": [
      "Archivo '2829jugadores.json' guardado en la carpeta 'jugadores'.\n",
      "Archivo '2817jugadores.json' guardado en la carpeta 'jugadores'.\n",
      "Archivo '77879jugadores.json' guardado en la carpeta 'jugadores'.\n",
      "Archivo '2828jugadores.json' guardado en la carpeta 'jugadores'.\n",
      "Archivo '2833jugadores.json' guardado en la carpeta 'jugadores'.\n",
      "Archivo '2819jugadores.json' guardado en la carpeta 'jugadores'.\n",
      "Archivo '2824jugadores.json' guardado en la carpeta 'jugadores'.\n",
      "Archivo '2816jugadores.json' guardado en la carpeta 'jugadores'.\n",
      "Archivo '2825jugadores.json' guardado en la carpeta 'jugadores'.\n",
      "Archivo '2821jugadores.json' guardado en la carpeta 'jugadores'.\n",
      "Archivo '2858jugadores.json' guardado en la carpeta 'jugadores'.\n",
      "Archivo '2859jugadores.json' guardado en la carpeta 'jugadores'.\n",
      "Archivo '2826jugadores.json' guardado en la carpeta 'jugadores'.\n",
      "Archivo '24264jugadores.json' guardado en la carpeta 'jugadores'.\n",
      "Archivo '33779jugadores.json' guardado en la carpeta 'jugadores'.\n",
      "Archivo '4488jugadores.json' guardado en la carpeta 'jugadores'.\n",
      "Archivo '2885jugadores.json' guardado en la carpeta 'jugadores'.\n",
      "Archivo '2818jugadores.json' guardado en la carpeta 'jugadores'.\n",
      "Archivo '2820jugadores.json' guardado en la carpeta 'jugadores'.\n",
      "Archivo '6577jugadores.json' guardado en la carpeta 'jugadores'.\n"
     ]
    }
   ],
   "source": [
    "import json\n",
    "import requests\n",
    "import os\n",
    "\n",
    "url = \"https://sofascore.p.rapidapi.com/teams/get-squad\"\n",
    "\n",
    "consultas = [{\"teamId\": str(equipo_id)} for equipo_id in ids_equipos.values()]\n",
    "\n",
    "cabeceras = {\n",
    "    \"X-RapidAPI-Key\": \"d3b7b894admsh364e6ad10ed44ecp15f17ajsn0c72275d03a3\",\n",
    "    \"X-RapidAPI-Host\": \"sofascore.p.rapidapi.com\"\n",
    "}\n",
    "\n",
    "carpeta = \"jugadores\"\n",
    "ruta_carpeta = os.path.join(os.getcwd(), carpeta)\n",
    "\n",
    "# Verifica si la carpeta no existe y luego créala\n",
    "if not os.path.exists(ruta_carpeta):\n",
    "    os.makedirs(ruta_carpeta)\n",
    "\n",
    "# Itera a través de cada consulta y guarda los datos en archivos JSON respectivos\n",
    "for i, consulta in enumerate(consultas):\n",
    "    respuesta = requests.get(url, headers=cabeceras, params=consulta)\n",
    "    datos = respuesta.json()\n",
    "\n",
    "    # Especifica el nombre de archivo modificado dentro de la carpeta \"jugadores\" para cada equipo\n",
    "    nombre_archivo = f\"{list(consultas[i].values())[0]}jugadores.json\"\n",
    "    ruta_archivo = os.path.join(ruta_carpeta, nombre_archivo)\n",
    "\n",
    "    with open(ruta_archivo, \"w\") as archivo:\n",
    "        json.dump(datos, archivo)\n",
    "\n",
    "    print(f\"Archivo '{nombre_archivo}' guardado en la carpeta '{carpeta}'.\")\n"
   ]
  },
  {
   "cell_type": "markdown",
   "id": "6bba09d1-b922-4cd1-8d42-5dc4b6523fb9",
   "metadata": {},
   "source": [
    "### Obtener id de todos los jugadores de todos los equipos de LaLiga"
   ]
  },
  {
   "cell_type": "code",
   "execution_count": 35,
   "id": "8957c5ad-5556-4b34-b8cf-b9ba3b4b8e0c",
   "metadata": {
    "tags": []
   },
   "outputs": [
    {
     "name": "stdout",
     "output_type": "stream",
     "text": [
      "Num jugadores: 23\n",
      "Num jugadores: 22\n",
      "Num jugadores: 37\n",
      "Num jugadores: 24\n",
      "Num jugadores: 28\n",
      "Num jugadores: 29\n",
      "Num jugadores: 29\n",
      "Num jugadores: 27\n",
      "Num jugadores: 27\n",
      "Num jugadores: 24\n",
      "Num jugadores: 29\n",
      "Num jugadores: 27\n",
      "Num jugadores: 28\n",
      "Num jugadores: 31\n",
      "Num jugadores: 25\n",
      "Num jugadores: 29\n",
      "Num jugadores: 28\n",
      "Num jugadores: 29\n",
      "Num jugadores: 28\n",
      "Num jugadores: 29\n",
      "IDs de los jugadores: [868812, 910536, 69418, 15466, 991011, 26502, 831808, 1091116, 973887, 859025, 835485, 547838, 822519, 66492, 142622, 138572, 792073, 255239, 69404, 851271, 70988, 232422, 857574, 41789, 851671, 831005, 1402912, 855833, 1414933, 992587, 795222, 1103693, 45853, 1153270, 69416, 138892, 925097, 827212, 997035, 186795, 69408, 123976, 173883, 88625, 794949, 68296, 944901, 905810, 994110, 999606, 1385877, 1139592, 1440981, 1439033, 796887, 985611, 997955, 861622, 1023341, 1161894, 1082684, 1439032, 1126720, 1104113, 1017227, 97141, 905811, 1009088, 1116411, 1008732, 1010765, 1009096, 1126707, 824962, 1008828, 1009089, 1091841, 985241, 1009139, 1087822, 1495058, 1528741, 829296, 909119, 990232, 801211, 845693, 855830, 1122610, 826948, 790833, 998950, 966637, 1099482, 227922, 797306, 124737, 953097, 851282, 1144630, 996929, 151138, 1184317, 930997, 235386, 914744, 846470, 175753, 823631, 825754, 7635, 155702, 122702, 96370, 328145, 887581, 41837, 799054, 231776, 591750, 1010655, 10710, 578560, 1003007, 11869, 68332, 1006489, 840951, 941464, 928672, 1097719, 94527, 22209, 1192489, 146866, 309078, 867583, 1089108, 344129, 1177406, 984624, 39182, 910031, 138383, 16701, 40672, 153966, 843678, 1088565, 1518662, 1518664, 122810, 873189, 3041, 826195, 229740, 868715, 797290, 53739, 980732, 1518663, 26937, 962053, 190159, 823622, 754710, 1063235, 966862, 782396, 353252, 880218, 1066045, 966837, 592010, 845385, 980410, 1139409, 1010383, 1425058, 353250, 366592, 362014, 787751, 838159, 785468, 966441, 934383, 1064009, 791773, 1094782, 1562871, 1514119, 1011375, 785989, 123223, 1163937, 103417, 337671, 609752, 1035995, 137978, 14942, 345195, 847128, 1493689, 1031421, 1137814, 936234, 188365, 1064218, 158241, 111803, 855829, 99519, 973838, 893062, 13249, 253809, 929981, 783374, 605672, 355072, 1391487, 1085400, 82474, 966801, 71707, 592012, 4581, 359742, 298920, 96365, 910975, 1391375, 1012409, 1429847, 84531, 807648, 52663, 910978, 959872, 801837, 1009662, 797291, 1014412, 1516035, 19356, 894863, 794950, 876599, 1126779, 1014118, 352376, 595576, 557008, 835484, 846492, 997221, 1120669, 859773, 796320, 363774, 892521, 984789, 360718, 1069703, 795257, 47339, 32023, 848980, 914213, 1002556, 909966, 873630, 252857, 346516, 1100957, 1493213, 997203, 914014, 982327, 848926, 789886, 910023, 1493216, 818406, 1105331, 827942, 913455, 914522, 848080, 1094106, 845119, 964174, 1561756, 845797, 139925, 69379, 1514900, 336655, 604954, 169549, 966679, 942116, 794937, 331449, 794948, 385888, 811629, 351140, 1511955, 1523948, 307702, 805137, 576276, 108736, 36982, 350560, 1015240, 980578, 311462, 949707, 604258, 863276, 1513631, 1513630, 310874, 790179, 845168, 146852, 1162309, 110783, 988351, 255999, 349526, 826004, 949722, 1496078, 788216, 98440, 300522, 590404, 828239, 807116, 913695, 842164, 44577, 1513896, 1198968, 188107, 791046, 19013, 1168242, 1172917, 1046795, 798820, 32048, 1518119, 1082981, 319735, 839585, 796047, 1002813, 218616, 1106573, 973699, 129472, 813523, 1031566, 1513648, 1513673, 1518147, 876214, 44864, 908716, 1084081, 135116, 139919, 962378, 129861, 1391615, 164343, 991960, 83708, 791769, 895533, 293115, 814385, 40965, 790817, 52125, 1085081, 1084730, 914765, 326471, 844179, 316406, 861317, 857227, 355048, 344205, 986726, 914178, 144606, 934351, 141655, 1134758, 1394458, 788197, 31828, 805245, 252863, 27838, 212074, 141945, 914819, 941405, 316170, 944165, 846446, 259339, 148588, 329563, 352486, 376382, 141997, 927408, 855831, 1031658, 1136896, 349794, 260097, 921621, 800403, 355046, 347450, 1514914, 341097, 138390, 756344, 1099352, 84972, 1503836, 1099175, 855832, 900433, 1082968, 891931, 788141, 873717, 1010409, 1516789, 1524112, 1101232, 984623, 253415, 866810, 896073, 966836, 799195, 101156, 945404, 369004, 990659, 1561798, 1120373, 1518514, 25682, 138387, 910024, 932764, 913679, 899982, 345111, 21949, 900003, 900008, 588566, 124950, 857178, 608370, 1391366, 1392573, 542634, 88528, 846147, 152446, 41013, 965031, 1010421, 947201, 1119678, 97951, 965832, 1410144, 1086254, 37318, 789381, 997280, 591132, 1399700, 149370, 985329, 260031, 187313, 824130, 976141, 94539, 1119586, 1084381, 344847, 591136, 900792, 255973, 844752, 897902, 330675, 910267, 944225, 294377, 99516, 1473131, 1512109, 1512110, 350170, 869131, 960401, 188407, 841854, 1086286, 1012444, 129451, 933426, 552668, 964985, 925220, 353154, 362032, 868223, 894477, 978150, 979146, 377206, 986245, 914848, 964466, 868227, 813645, 1391879, 1521640, 964983, 368922, 1562385]\n"
     ]
    }
   ],
   "source": [
    "import json\n",
    "import requests\n",
    "import os\n",
    "\n",
    "url = \"https://sofascore.p.rapidapi.com/teams/get-squad\"\n",
    "\n",
    "consultas = [{\"teamId\": str(equipo_id)} for equipo_id in ids_equipos.values()]\n",
    "\n",
    "cabeceras = {\n",
    "    \"X-RapidAPI-Key\": \"d3b7b894admsh364e6ad10ed44ecp15f17ajsn0c72275d03a3\",\n",
    "    \"X-RapidAPI-Host\": \"sofascore.p.rapidapi.com\"\n",
    "}\n",
    "ids_jugadores = []\n",
    "\n",
    "# Verifica si la carpeta no existe y luego créala\n",
    "if not os.path.exists(ruta_carpeta):\n",
    "    os.makedirs(ruta_carpeta)\n",
    "\n",
    "# Itera a través de cada consulta y guarda los datos en archivos JSON respectivos\n",
    "for i, consulta in enumerate(consultas):\n",
    "    respuesta = requests.get(url, headers=cabeceras, params=consulta)\n",
    "    datos = respuesta.json()\n",
    "\n",
    " \n",
    "    jugadores = datos[\"players\"]\n",
    "    numJugadores = len(jugadores)\n",
    "    \n",
    "  \n",
    "    for jugador in jugadores:\n",
    "        jugador_id = jugador[\"player\"][\"id\"]\n",
    "        ids_jugadores.append(jugador_id)\n",
    "       \n",
    "    \n",
    "# Imprimir los IDs almacenados en el array\n",
    "print(\"IDs de los jugadores:\", ids_jugadores)"
   ]
  },
  {
   "cell_type": "code",
   "execution_count": null,
   "id": "f7778121-8fac-423c-b7fd-a203a7b36e15",
   "metadata": {},
   "outputs": [],
   "source": []
  },
  {
   "cell_type": "code",
   "execution_count": null,
   "id": "b14b8237-0934-473b-a716-c36bd1837c26",
   "metadata": {},
   "outputs": [],
   "source": []
  }
 ],
 "metadata": {
  "kernelspec": {
   "display_name": "Python 3",
   "language": "python",
   "name": "python3"
  },
  "language_info": {
   "codemirror_mode": {
    "name": "ipython",
    "version": 3
   },
   "file_extension": ".py",
   "mimetype": "text/x-python",
   "name": "python",
   "nbconvert_exporter": "python",
   "pygments_lexer": "ipython3",
   "version": "3.8.8"
  }
 },
 "nbformat": 4,
 "nbformat_minor": 5
}
